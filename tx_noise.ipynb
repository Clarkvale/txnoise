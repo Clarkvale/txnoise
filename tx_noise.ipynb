{
 "cells": [
  {
   "cell_type": "markdown",
   "source": [
    "Importing differential TX data for identifying differently expressed alleles"
   ],
   "metadata": {
    "collapsed": false
   }
  },
  {
   "cell_type": "code",
   "execution_count": 74,
   "metadata": {
    "collapsed": true,
    "ExecuteTime": {
     "end_time": "2023-12-15T00:20:23.555191371Z",
     "start_time": "2023-12-15T00:20:23.160393290Z"
    }
   },
   "outputs": [
    {
     "data": {
      "text/plain": "                                                               0  \\\n0610007P14Rik  [1.1173254981562086, 7.647917691822296, 18.568...   \n0610009B22Rik  [1.1670171103343407, 11.78732708906382, 43.102...   \n0610009O20Rik  [0.29388391257993357, 1.105312640766959, 2.238...   \n0610010F05Rik  [0.6222916672997535, 335.7738846409449, 360.11...   \n0610012G03Rik  [0.07111963761358953, 0.43058695104757994, 21....   \n\n                                                               1         2  \\\n0610007P14Rik  [1.0881543567246692, 5.182682836792884, 12.438...  0.909252   \n0610009B22Rik  [0.9168543360553596, 2.8861629478375206, 15.68...  0.215580   \n0610009O20Rik  [0.4329411244360464, 10.090309987467426, 11.54...  0.426255   \n0610010F05Rik  [0.40747384269585574, 162.98845781409838, 243....  0.227532   \n0610012G03Rik  [0.17987076536784363, 0.3460432821317886, 22.7...  0.096802   \n\n                      3              4  \n0610007P14Rik  0.954243  0610007P14Rik  \n0610009B22Rik  0.169670  0610009B22Rik  \n0610009O20Rik  0.300822  0610009O20Rik  \n0610010F05Rik  0.389678  0610010F05Rik  \n0610012G03Rik  0.427180  0610012G03Rik  ",
      "text/html": "<div>\n<style scoped>\n    .dataframe tbody tr th:only-of-type {\n        vertical-align: middle;\n    }\n\n    .dataframe tbody tr th {\n        vertical-align: top;\n    }\n\n    .dataframe thead th {\n        text-align: right;\n    }\n</style>\n<table border=\"1\" class=\"dataframe\">\n  <thead>\n    <tr style=\"text-align: right;\">\n      <th></th>\n      <th>0</th>\n      <th>1</th>\n      <th>2</th>\n      <th>3</th>\n      <th>4</th>\n    </tr>\n  </thead>\n  <tbody>\n    <tr>\n      <th>0610007P14Rik</th>\n      <td>[1.1173254981562086, 7.647917691822296, 18.568...</td>\n      <td>[1.0881543567246692, 5.182682836792884, 12.438...</td>\n      <td>0.909252</td>\n      <td>0.954243</td>\n      <td>0610007P14Rik</td>\n    </tr>\n    <tr>\n      <th>0610009B22Rik</th>\n      <td>[1.1670171103343407, 11.78732708906382, 43.102...</td>\n      <td>[0.9168543360553596, 2.8861629478375206, 15.68...</td>\n      <td>0.215580</td>\n      <td>0.169670</td>\n      <td>0610009B22Rik</td>\n    </tr>\n    <tr>\n      <th>0610009O20Rik</th>\n      <td>[0.29388391257993357, 1.105312640766959, 2.238...</td>\n      <td>[0.4329411244360464, 10.090309987467426, 11.54...</td>\n      <td>0.426255</td>\n      <td>0.300822</td>\n      <td>0610009O20Rik</td>\n    </tr>\n    <tr>\n      <th>0610010F05Rik</th>\n      <td>[0.6222916672997535, 335.7738846409449, 360.11...</td>\n      <td>[0.40747384269585574, 162.98845781409838, 243....</td>\n      <td>0.227532</td>\n      <td>0.389678</td>\n      <td>0610010F05Rik</td>\n    </tr>\n    <tr>\n      <th>0610012G03Rik</th>\n      <td>[0.07111963761358953, 0.43058695104757994, 21....</td>\n      <td>[0.17987076536784363, 0.3460432821317886, 22.7...</td>\n      <td>0.096802</td>\n      <td>0.427180</td>\n      <td>0610012G03Rik</td>\n    </tr>\n  </tbody>\n</table>\n</div>"
     },
     "execution_count": 74,
     "metadata": {},
     "output_type": "execute_result"
    }
   ],
   "source": [
    "import pandas as pd\n",
    "import numpy as np\n",
    "\n",
    "as_test = pd.read_pickle(\"data/SS3_c57_UMIs_concat_vs_SS3_cast_UMIs_concat_TEST.pkl\")\n",
    "as_test = as_test.dropna()\n",
    "as_test.head()"
   ]
  },
  {
   "cell_type": "markdown",
   "source": [
    "Removing significant rows for either size or frequency."
   ],
   "metadata": {
    "collapsed": false
   }
  },
  {
   "cell_type": "code",
   "execution_count": 75,
   "outputs": [],
   "source": [
    "sig_as = as_test.loc[(as_test[2] < 0.05) | (as_test[3] < 0.05)]\n",
    "non_sig_as = as_test.loc[(as_test[2] >= 0.05) | (as_test[3] >= 0.05)]\n",
    "non_sig_as_ids = np.array(as_test[4])\n",
    "non_sig_as_ids.tofile(\"data/non_sig_as_ids.txt\", sep=\"\\n\")"
   ],
   "metadata": {
    "collapsed": false,
    "ExecuteTime": {
     "end_time": "2023-12-15T00:20:23.555298820Z",
     "start_time": "2023-12-15T00:20:23.553515127Z"
    }
   }
  },
  {
   "cell_type": "markdown",
   "source": [
    "Now to add ensembl annotations. ID file was uploaded to MGI @ https://www.informatics.jax.org/batch. Remove non-mitotic chromosomes and random contigs."
   ],
   "metadata": {
    "collapsed": false
   }
  },
  {
   "cell_type": "code",
   "execution_count": 76,
   "outputs": [
    {
     "data": {
      "text/plain": "              Input      Input Type MGI Gene/Marker ID Chr Strand  \\\n0     0610007P14Rik      old symbol        MGI:1915571  12      -   \n1     0610009B22Rik      old symbol        MGI:1913300  11      -   \n2     0610009O20Rik      old symbol        MGI:1914089  18      +   \n3     0610010F05Rik      old symbol        MGI:1918925  11      -   \n4     0610012G03Rik      old symbol        MGI:1913301  16      -   \n...             ...             ...                ...  ..    ...   \n6583          Zwint  current symbol        MGI:1289227  10      +   \n6584           Zxdc  current symbol        MGI:1933108   6      +   \n6585         Zyg11b  current symbol        MGI:2685277   4      -   \n6586            Zyx  current symbol         MGI:103072   6      +   \n6587          l7Rn6      old symbol          MGI:96738   7      -   \n\n            Start          End          Ensembl ID  \n0      85862222.0   85871324.0  ENSMUSG00000021252  \n1      51576213.0   51579701.0  ENSMUSG00000007777  \n2      38383302.0   38395682.0  ENSMUSG00000024442  \n3      23514961.0   23583639.0  ENSMUSG00000042208  \n4      31765868.0   31767312.0  ENSMUSG00000107002  \n...           ...          ...                 ...  \n6583   72490678.0   72510796.0  ENSMUSG00000019923  \n6584   90346474.0   90380472.0  ENSMUSG00000034430  \n6585  108086921.0  108158293.0  ENSMUSG00000034636  \n6586   42326564.0   42337147.0  ENSMUSG00000029860  \n6587   89567893.0   89590446.0  ENSMUSG00000062797  \n\n[6270 rows x 8 columns]",
      "text/html": "<div>\n<style scoped>\n    .dataframe tbody tr th:only-of-type {\n        vertical-align: middle;\n    }\n\n    .dataframe tbody tr th {\n        vertical-align: top;\n    }\n\n    .dataframe thead th {\n        text-align: right;\n    }\n</style>\n<table border=\"1\" class=\"dataframe\">\n  <thead>\n    <tr style=\"text-align: right;\">\n      <th></th>\n      <th>Input</th>\n      <th>Input Type</th>\n      <th>MGI Gene/Marker ID</th>\n      <th>Chr</th>\n      <th>Strand</th>\n      <th>Start</th>\n      <th>End</th>\n      <th>Ensembl ID</th>\n    </tr>\n  </thead>\n  <tbody>\n    <tr>\n      <th>0</th>\n      <td>0610007P14Rik</td>\n      <td>old symbol</td>\n      <td>MGI:1915571</td>\n      <td>12</td>\n      <td>-</td>\n      <td>85862222.0</td>\n      <td>85871324.0</td>\n      <td>ENSMUSG00000021252</td>\n    </tr>\n    <tr>\n      <th>1</th>\n      <td>0610009B22Rik</td>\n      <td>old symbol</td>\n      <td>MGI:1913300</td>\n      <td>11</td>\n      <td>-</td>\n      <td>51576213.0</td>\n      <td>51579701.0</td>\n      <td>ENSMUSG00000007777</td>\n    </tr>\n    <tr>\n      <th>2</th>\n      <td>0610009O20Rik</td>\n      <td>old symbol</td>\n      <td>MGI:1914089</td>\n      <td>18</td>\n      <td>+</td>\n      <td>38383302.0</td>\n      <td>38395682.0</td>\n      <td>ENSMUSG00000024442</td>\n    </tr>\n    <tr>\n      <th>3</th>\n      <td>0610010F05Rik</td>\n      <td>old symbol</td>\n      <td>MGI:1918925</td>\n      <td>11</td>\n      <td>-</td>\n      <td>23514961.0</td>\n      <td>23583639.0</td>\n      <td>ENSMUSG00000042208</td>\n    </tr>\n    <tr>\n      <th>4</th>\n      <td>0610012G03Rik</td>\n      <td>old symbol</td>\n      <td>MGI:1913301</td>\n      <td>16</td>\n      <td>-</td>\n      <td>31765868.0</td>\n      <td>31767312.0</td>\n      <td>ENSMUSG00000107002</td>\n    </tr>\n    <tr>\n      <th>...</th>\n      <td>...</td>\n      <td>...</td>\n      <td>...</td>\n      <td>...</td>\n      <td>...</td>\n      <td>...</td>\n      <td>...</td>\n      <td>...</td>\n    </tr>\n    <tr>\n      <th>6583</th>\n      <td>Zwint</td>\n      <td>current symbol</td>\n      <td>MGI:1289227</td>\n      <td>10</td>\n      <td>+</td>\n      <td>72490678.0</td>\n      <td>72510796.0</td>\n      <td>ENSMUSG00000019923</td>\n    </tr>\n    <tr>\n      <th>6584</th>\n      <td>Zxdc</td>\n      <td>current symbol</td>\n      <td>MGI:1933108</td>\n      <td>6</td>\n      <td>+</td>\n      <td>90346474.0</td>\n      <td>90380472.0</td>\n      <td>ENSMUSG00000034430</td>\n    </tr>\n    <tr>\n      <th>6585</th>\n      <td>Zyg11b</td>\n      <td>current symbol</td>\n      <td>MGI:2685277</td>\n      <td>4</td>\n      <td>-</td>\n      <td>108086921.0</td>\n      <td>108158293.0</td>\n      <td>ENSMUSG00000034636</td>\n    </tr>\n    <tr>\n      <th>6586</th>\n      <td>Zyx</td>\n      <td>current symbol</td>\n      <td>MGI:103072</td>\n      <td>6</td>\n      <td>+</td>\n      <td>42326564.0</td>\n      <td>42337147.0</td>\n      <td>ENSMUSG00000029860</td>\n    </tr>\n    <tr>\n      <th>6587</th>\n      <td>l7Rn6</td>\n      <td>old symbol</td>\n      <td>MGI:96738</td>\n      <td>7</td>\n      <td>-</td>\n      <td>89567893.0</td>\n      <td>89590446.0</td>\n      <td>ENSMUSG00000062797</td>\n    </tr>\n  </tbody>\n</table>\n<p>6270 rows × 8 columns</p>\n</div>"
     },
     "execution_count": 76,
     "metadata": {},
     "output_type": "execute_result"
    }
   ],
   "source": [
    "ens_non_sig_ids = pd.read_csv(\"data/MGIBatchReport_20231207_141900.txt\", sep=\"\\t\")\n",
    "\n",
    "ens_non_sig_ids = ens_non_sig_ids.iloc[[i for i in range(len(ens_non_sig_ids[\"Chr\"])) if ens_non_sig_ids[\"Chr\"][i] not in [\"X\",\"Y\",\"UN\"]]].dropna()\n",
    "ens_non_sig_ids"
   ],
   "metadata": {
    "collapsed": false,
    "ExecuteTime": {
     "end_time": "2023-12-15T00:20:23.619242998Z",
     "start_time": "2023-12-15T00:20:23.553681367Z"
    }
   }
  },
  {
   "cell_type": "markdown",
   "source": [
    "Getting allele specific UMI counts"
   ],
   "metadata": {
    "collapsed": false
   }
  },
  {
   "cell_type": "code",
   "execution_count": 77,
   "outputs": [
    {
     "data": {
      "text/plain": "                       ID  AACGCTACCACCAT  AACGCTACCGTTAC  AACGCTAGAAGGCT  \\\n0      ENSMUSG00000000001            16.0            18.0            11.0   \n1      ENSMUSG00000000028             0.0             4.0             NaN   \n2      ENSMUSG00000000037             0.0             0.0             0.0   \n3      ENSMUSG00000000049             0.0             0.0             0.0   \n4      ENSMUSG00000000056             0.0             1.0             0.0   \n...                   ...             ...             ...             ...   \n20299  ENSMUSG00000104509             0.0             0.0             0.0   \n20300  ENSMUSG00000104512             0.0             0.0             0.0   \n20301  ENSMUSG00000104514             0.0             0.0             0.0   \n20302  ENSMUSG00000104515             0.0             0.0             0.0   \n20303  ENSMUSG00000104524             0.0             0.0             0.0   \n\n       AACGCTATTGCTCC  AACGCTCAACGGTC  AACGCTCAGTGGAG  AACGCTCCGCACCT  \\\n0                18.0            16.0             8.0             7.0   \n1                 NaN             0.0             0.0             NaN   \n2                 0.0             NaN             0.0             0.0   \n3                 0.0             0.0             0.0             0.0   \n4                 0.0             2.0             1.0             0.0   \n...               ...             ...             ...             ...   \n20299             0.0             0.0             0.0             0.0   \n20300             0.0             0.0             NaN             0.0   \n20301             0.0             0.0             0.0             0.0   \n20302             0.0             0.0             0.0             0.0   \n20303             0.0             1.0             0.0             0.0   \n\n       AACGCTCGAACCAC  AACGCTCGTTCAAC  ...  TGAGGTGAGGAGGT  TGAGGTGATTGCGC  \\\n0                 2.0             1.0  ...             7.0            13.0   \n1                 NaN             0.0  ...             NaN             0.0   \n2                 0.0             0.0  ...             1.0             1.0   \n3                 NaN             0.0  ...             0.0             NaN   \n4                 0.0             0.0  ...             0.0             2.0   \n...               ...             ...  ...             ...             ...   \n20299             0.0             0.0  ...             0.0             0.0   \n20300             0.0             0.0  ...             0.0             0.0   \n20301             0.0             0.0  ...             0.0             0.0   \n20302             0.0             0.0  ...             0.0             0.0   \n20303             0.0             0.0  ...             0.0             0.0   \n\n       TGAGGTGCAAGGTT  TGAGGTGCGAGGAT  TGAGGTGGCGATAT  TGAGGTGGTAGCAC  \\\n0                11.0            11.0             9.0            11.0   \n1                 0.0             0.0             0.0            19.0   \n2                 2.0             1.0             0.0             NaN   \n3                 0.0             0.0             0.0             0.0   \n4                 2.0             0.0             3.0             0.0   \n...               ...             ...             ...             ...   \n20299             0.0             0.0             0.0             0.0   \n20300             0.0             0.0             0.0             0.0   \n20301             0.0             0.0             0.0             0.0   \n20302             0.0             0.0             0.0             0.0   \n20303             0.0             0.0             0.0             0.0   \n\n       TGAGGTGTACATAC  TGAGGTGTAGATGG  TGAGGTTATCCATA  TGAGGTTTGCTCGT  \n0                 1.0            11.0             5.0             7.0  \n1                 0.0             0.0             0.0             0.0  \n2                 0.0             0.0             0.0             0.0  \n3                 0.0             0.0             0.0             2.0  \n4                 0.0             0.0             0.0             0.0  \n...               ...             ...             ...             ...  \n20299             0.0             0.0             0.0             0.0  \n20300             0.0             0.0             0.0             0.0  \n20301             0.0             0.0             0.0             0.0  \n20302             0.0             0.0             0.0             0.0  \n20303             0.0             0.0             0.0             0.0  \n\n[20304 rows x 738 columns]",
      "text/html": "<div>\n<style scoped>\n    .dataframe tbody tr th:only-of-type {\n        vertical-align: middle;\n    }\n\n    .dataframe tbody tr th {\n        vertical-align: top;\n    }\n\n    .dataframe thead th {\n        text-align: right;\n    }\n</style>\n<table border=\"1\" class=\"dataframe\">\n  <thead>\n    <tr style=\"text-align: right;\">\n      <th></th>\n      <th>ID</th>\n      <th>AACGCTACCACCAT</th>\n      <th>AACGCTACCGTTAC</th>\n      <th>AACGCTAGAAGGCT</th>\n      <th>AACGCTATTGCTCC</th>\n      <th>AACGCTCAACGGTC</th>\n      <th>AACGCTCAGTGGAG</th>\n      <th>AACGCTCCGCACCT</th>\n      <th>AACGCTCGAACCAC</th>\n      <th>AACGCTCGTTCAAC</th>\n      <th>...</th>\n      <th>TGAGGTGAGGAGGT</th>\n      <th>TGAGGTGATTGCGC</th>\n      <th>TGAGGTGCAAGGTT</th>\n      <th>TGAGGTGCGAGGAT</th>\n      <th>TGAGGTGGCGATAT</th>\n      <th>TGAGGTGGTAGCAC</th>\n      <th>TGAGGTGTACATAC</th>\n      <th>TGAGGTGTAGATGG</th>\n      <th>TGAGGTTATCCATA</th>\n      <th>TGAGGTTTGCTCGT</th>\n    </tr>\n  </thead>\n  <tbody>\n    <tr>\n      <th>0</th>\n      <td>ENSMUSG00000000001</td>\n      <td>16.0</td>\n      <td>18.0</td>\n      <td>11.0</td>\n      <td>18.0</td>\n      <td>16.0</td>\n      <td>8.0</td>\n      <td>7.0</td>\n      <td>2.0</td>\n      <td>1.0</td>\n      <td>...</td>\n      <td>7.0</td>\n      <td>13.0</td>\n      <td>11.0</td>\n      <td>11.0</td>\n      <td>9.0</td>\n      <td>11.0</td>\n      <td>1.0</td>\n      <td>11.0</td>\n      <td>5.0</td>\n      <td>7.0</td>\n    </tr>\n    <tr>\n      <th>1</th>\n      <td>ENSMUSG00000000028</td>\n      <td>0.0</td>\n      <td>4.0</td>\n      <td>NaN</td>\n      <td>NaN</td>\n      <td>0.0</td>\n      <td>0.0</td>\n      <td>NaN</td>\n      <td>NaN</td>\n      <td>0.0</td>\n      <td>...</td>\n      <td>NaN</td>\n      <td>0.0</td>\n      <td>0.0</td>\n      <td>0.0</td>\n      <td>0.0</td>\n      <td>19.0</td>\n      <td>0.0</td>\n      <td>0.0</td>\n      <td>0.0</td>\n      <td>0.0</td>\n    </tr>\n    <tr>\n      <th>2</th>\n      <td>ENSMUSG00000000037</td>\n      <td>0.0</td>\n      <td>0.0</td>\n      <td>0.0</td>\n      <td>0.0</td>\n      <td>NaN</td>\n      <td>0.0</td>\n      <td>0.0</td>\n      <td>0.0</td>\n      <td>0.0</td>\n      <td>...</td>\n      <td>1.0</td>\n      <td>1.0</td>\n      <td>2.0</td>\n      <td>1.0</td>\n      <td>0.0</td>\n      <td>NaN</td>\n      <td>0.0</td>\n      <td>0.0</td>\n      <td>0.0</td>\n      <td>0.0</td>\n    </tr>\n    <tr>\n      <th>3</th>\n      <td>ENSMUSG00000000049</td>\n      <td>0.0</td>\n      <td>0.0</td>\n      <td>0.0</td>\n      <td>0.0</td>\n      <td>0.0</td>\n      <td>0.0</td>\n      <td>0.0</td>\n      <td>NaN</td>\n      <td>0.0</td>\n      <td>...</td>\n      <td>0.0</td>\n      <td>NaN</td>\n      <td>0.0</td>\n      <td>0.0</td>\n      <td>0.0</td>\n      <td>0.0</td>\n      <td>0.0</td>\n      <td>0.0</td>\n      <td>0.0</td>\n      <td>2.0</td>\n    </tr>\n    <tr>\n      <th>4</th>\n      <td>ENSMUSG00000000056</td>\n      <td>0.0</td>\n      <td>1.0</td>\n      <td>0.0</td>\n      <td>0.0</td>\n      <td>2.0</td>\n      <td>1.0</td>\n      <td>0.0</td>\n      <td>0.0</td>\n      <td>0.0</td>\n      <td>...</td>\n      <td>0.0</td>\n      <td>2.0</td>\n      <td>2.0</td>\n      <td>0.0</td>\n      <td>3.0</td>\n      <td>0.0</td>\n      <td>0.0</td>\n      <td>0.0</td>\n      <td>0.0</td>\n      <td>0.0</td>\n    </tr>\n    <tr>\n      <th>...</th>\n      <td>...</td>\n      <td>...</td>\n      <td>...</td>\n      <td>...</td>\n      <td>...</td>\n      <td>...</td>\n      <td>...</td>\n      <td>...</td>\n      <td>...</td>\n      <td>...</td>\n      <td>...</td>\n      <td>...</td>\n      <td>...</td>\n      <td>...</td>\n      <td>...</td>\n      <td>...</td>\n      <td>...</td>\n      <td>...</td>\n      <td>...</td>\n      <td>...</td>\n      <td>...</td>\n    </tr>\n    <tr>\n      <th>20299</th>\n      <td>ENSMUSG00000104509</td>\n      <td>0.0</td>\n      <td>0.0</td>\n      <td>0.0</td>\n      <td>0.0</td>\n      <td>0.0</td>\n      <td>0.0</td>\n      <td>0.0</td>\n      <td>0.0</td>\n      <td>0.0</td>\n      <td>...</td>\n      <td>0.0</td>\n      <td>0.0</td>\n      <td>0.0</td>\n      <td>0.0</td>\n      <td>0.0</td>\n      <td>0.0</td>\n      <td>0.0</td>\n      <td>0.0</td>\n      <td>0.0</td>\n      <td>0.0</td>\n    </tr>\n    <tr>\n      <th>20300</th>\n      <td>ENSMUSG00000104512</td>\n      <td>0.0</td>\n      <td>0.0</td>\n      <td>0.0</td>\n      <td>0.0</td>\n      <td>0.0</td>\n      <td>NaN</td>\n      <td>0.0</td>\n      <td>0.0</td>\n      <td>0.0</td>\n      <td>...</td>\n      <td>0.0</td>\n      <td>0.0</td>\n      <td>0.0</td>\n      <td>0.0</td>\n      <td>0.0</td>\n      <td>0.0</td>\n      <td>0.0</td>\n      <td>0.0</td>\n      <td>0.0</td>\n      <td>0.0</td>\n    </tr>\n    <tr>\n      <th>20301</th>\n      <td>ENSMUSG00000104514</td>\n      <td>0.0</td>\n      <td>0.0</td>\n      <td>0.0</td>\n      <td>0.0</td>\n      <td>0.0</td>\n      <td>0.0</td>\n      <td>0.0</td>\n      <td>0.0</td>\n      <td>0.0</td>\n      <td>...</td>\n      <td>0.0</td>\n      <td>0.0</td>\n      <td>0.0</td>\n      <td>0.0</td>\n      <td>0.0</td>\n      <td>0.0</td>\n      <td>0.0</td>\n      <td>0.0</td>\n      <td>0.0</td>\n      <td>0.0</td>\n    </tr>\n    <tr>\n      <th>20302</th>\n      <td>ENSMUSG00000104515</td>\n      <td>0.0</td>\n      <td>0.0</td>\n      <td>0.0</td>\n      <td>0.0</td>\n      <td>0.0</td>\n      <td>0.0</td>\n      <td>0.0</td>\n      <td>0.0</td>\n      <td>0.0</td>\n      <td>...</td>\n      <td>0.0</td>\n      <td>0.0</td>\n      <td>0.0</td>\n      <td>0.0</td>\n      <td>0.0</td>\n      <td>0.0</td>\n      <td>0.0</td>\n      <td>0.0</td>\n      <td>0.0</td>\n      <td>0.0</td>\n    </tr>\n    <tr>\n      <th>20303</th>\n      <td>ENSMUSG00000104524</td>\n      <td>0.0</td>\n      <td>0.0</td>\n      <td>0.0</td>\n      <td>0.0</td>\n      <td>1.0</td>\n      <td>0.0</td>\n      <td>0.0</td>\n      <td>0.0</td>\n      <td>0.0</td>\n      <td>...</td>\n      <td>0.0</td>\n      <td>0.0</td>\n      <td>0.0</td>\n      <td>0.0</td>\n      <td>0.0</td>\n      <td>0.0</td>\n      <td>0.0</td>\n      <td>0.0</td>\n      <td>0.0</td>\n      <td>0.0</td>\n    </tr>\n  </tbody>\n</table>\n<p>20304 rows × 738 columns</p>\n</div>"
     },
     "execution_count": 77,
     "metadata": {},
     "output_type": "execute_result"
    }
   ],
   "source": [
    "c57_ex = pd.read_csv(\"data/merged.fixed.BL6_fractional_UMIs.csv\")\n",
    "cast_ex = pd.read_csv(\"data/merged.fixed.CAST_fractional_UMIs.csv\")\n",
    "c57_ex.rename(columns={\"Unnamed: 0\": \"ID\"}, inplace=True)\n",
    "cast_ex.rename(columns={\"Unnamed: 0\": \"ID\"}, inplace=True)\n",
    "c57_ex"
   ],
   "metadata": {
    "collapsed": false,
    "ExecuteTime": {
     "end_time": "2023-12-15T00:20:24.675136066Z",
     "start_time": "2023-12-15T00:20:23.593793848Z"
    }
   }
  },
  {
   "cell_type": "markdown",
   "source": [
    "Filtering rows that are non-allele specific"
   ],
   "metadata": {
    "collapsed": false
   }
  },
  {
   "cell_type": "code",
   "execution_count": 78,
   "outputs": [
    {
     "data": {
      "text/plain": "                    AACGCTACCACCAT  AACGCTACCGTTAC  AACGCTAGAAGGCT  \\\nID                                                                   \nENSMUSG00000000001            16.0            18.0            11.0   \nENSMUSG00000000028             0.0             4.0             NaN   \nENSMUSG00000000058             2.0             2.0             3.0   \nENSMUSG00000000078             NaN            10.0             8.0   \nENSMUSG00000000088             3.0             3.0             4.0   \n...                            ...             ...             ...   \nENSMUSG00000100937             0.0             0.0             0.0   \nENSMUSG00000101609             0.0             0.0             0.0   \nENSMUSG00000101892             2.0             9.0             7.0   \nENSMUSG00000102101             0.0             0.0             0.0   \nENSMUSG00000102252             0.0             NaN             0.0   \n\n                    AACGCTATTGCTCC  AACGCTCAACGGTC  AACGCTCAGTGGAG  \\\nID                                                                   \nENSMUSG00000000001            18.0            16.0             8.0   \nENSMUSG00000000028             NaN             0.0             0.0   \nENSMUSG00000000058             0.0             2.0             1.0   \nENSMUSG00000000078             0.0            13.0             3.0   \nENSMUSG00000000088             7.0             4.0             3.0   \n...                            ...             ...             ...   \nENSMUSG00000100937             0.0             0.0             0.0   \nENSMUSG00000101609             0.0             0.0             0.0   \nENSMUSG00000101892             6.0             6.0             2.0   \nENSMUSG00000102101             0.0             0.0             1.0   \nENSMUSG00000102252             0.0             0.0             0.0   \n\n                    AACGCTCCGCACCT  AACGCTCGAACCAC  AACGCTCGTTCAAC  \\\nID                                                                   \nENSMUSG00000000001             7.0             2.0             1.0   \nENSMUSG00000000028             NaN             NaN             0.0   \nENSMUSG00000000058             7.0             0.0             0.0   \nENSMUSG00000000078             NaN             2.0             0.0   \nENSMUSG00000000088             4.0             2.0             0.0   \n...                            ...             ...             ...   \nENSMUSG00000100937             0.0             0.0             0.0   \nENSMUSG00000101609             0.0             0.0             0.0   \nENSMUSG00000101892             1.0             0.0             5.0   \nENSMUSG00000102101             0.0             0.0             0.0   \nENSMUSG00000102252             0.0             0.0             NaN   \n\n                    AACGCTCTTCTCCT  ...  TGAGGTGAGGAGGT  TGAGGTGATTGCGC  \\\nID                                  ...                                   \nENSMUSG00000000001             9.0  ...             7.0            13.0   \nENSMUSG00000000028             0.0  ...             NaN             0.0   \nENSMUSG00000000058             0.0  ...             0.0             0.0   \nENSMUSG00000000078             0.0  ...             0.0            11.0   \nENSMUSG00000000088             2.0  ...            11.0             7.0   \n...                            ...  ...             ...             ...   \nENSMUSG00000100937             0.0  ...             0.0             0.0   \nENSMUSG00000101609             NaN  ...             0.0             0.0   \nENSMUSG00000101892             1.0  ...             6.0             3.0   \nENSMUSG00000102101             0.0  ...             0.0             1.0   \nENSMUSG00000102252             0.0  ...             0.0             0.0   \n\n                    TGAGGTGCAAGGTT  TGAGGTGCGAGGAT  TGAGGTGGCGATAT  \\\nID                                                                   \nENSMUSG00000000001            11.0            11.0             9.0   \nENSMUSG00000000028             0.0             0.0             0.0   \nENSMUSG00000000058             2.0             3.0             0.0   \nENSMUSG00000000078            41.0            11.0            12.0   \nENSMUSG00000000088             7.0             5.0             4.0   \n...                            ...             ...             ...   \nENSMUSG00000100937             0.0             0.0             0.0   \nENSMUSG00000101609             0.0             0.0             0.0   \nENSMUSG00000101892            15.0             2.0             2.0   \nENSMUSG00000102101             0.0             0.0             1.0   \nENSMUSG00000102252             0.0             0.0             0.0   \n\n                    TGAGGTGGTAGCAC  TGAGGTGTACATAC  TGAGGTGTAGATGG  \\\nID                                                                   \nENSMUSG00000000001            11.0             1.0            11.0   \nENSMUSG00000000028            19.0             0.0             0.0   \nENSMUSG00000000058             3.0             0.0             1.0   \nENSMUSG00000000078             8.0             0.0            30.0   \nENSMUSG00000000088             5.0             3.0             7.0   \n...                            ...             ...             ...   \nENSMUSG00000100937             0.0             0.0             0.0   \nENSMUSG00000101609             0.0             0.0             0.0   \nENSMUSG00000101892             5.0             4.0             6.0   \nENSMUSG00000102101             0.0             0.0             1.0   \nENSMUSG00000102252             0.0             0.0             0.0   \n\n                    TGAGGTTATCCATA  TGAGGTTTGCTCGT  \nID                                                  \nENSMUSG00000000001             5.0             7.0  \nENSMUSG00000000028             0.0             0.0  \nENSMUSG00000000058             1.0             8.0  \nENSMUSG00000000078            10.0            23.0  \nENSMUSG00000000088             1.0             2.0  \n...                            ...             ...  \nENSMUSG00000100937             0.0             0.0  \nENSMUSG00000101609             0.0             0.0  \nENSMUSG00000101892             7.0             2.0  \nENSMUSG00000102101             1.0             0.0  \nENSMUSG00000102252             0.0             0.0  \n\n[5779 rows x 737 columns]",
      "text/html": "<div>\n<style scoped>\n    .dataframe tbody tr th:only-of-type {\n        vertical-align: middle;\n    }\n\n    .dataframe tbody tr th {\n        vertical-align: top;\n    }\n\n    .dataframe thead th {\n        text-align: right;\n    }\n</style>\n<table border=\"1\" class=\"dataframe\">\n  <thead>\n    <tr style=\"text-align: right;\">\n      <th></th>\n      <th>AACGCTACCACCAT</th>\n      <th>AACGCTACCGTTAC</th>\n      <th>AACGCTAGAAGGCT</th>\n      <th>AACGCTATTGCTCC</th>\n      <th>AACGCTCAACGGTC</th>\n      <th>AACGCTCAGTGGAG</th>\n      <th>AACGCTCCGCACCT</th>\n      <th>AACGCTCGAACCAC</th>\n      <th>AACGCTCGTTCAAC</th>\n      <th>AACGCTCTTCTCCT</th>\n      <th>...</th>\n      <th>TGAGGTGAGGAGGT</th>\n      <th>TGAGGTGATTGCGC</th>\n      <th>TGAGGTGCAAGGTT</th>\n      <th>TGAGGTGCGAGGAT</th>\n      <th>TGAGGTGGCGATAT</th>\n      <th>TGAGGTGGTAGCAC</th>\n      <th>TGAGGTGTACATAC</th>\n      <th>TGAGGTGTAGATGG</th>\n      <th>TGAGGTTATCCATA</th>\n      <th>TGAGGTTTGCTCGT</th>\n    </tr>\n    <tr>\n      <th>ID</th>\n      <th></th>\n      <th></th>\n      <th></th>\n      <th></th>\n      <th></th>\n      <th></th>\n      <th></th>\n      <th></th>\n      <th></th>\n      <th></th>\n      <th></th>\n      <th></th>\n      <th></th>\n      <th></th>\n      <th></th>\n      <th></th>\n      <th></th>\n      <th></th>\n      <th></th>\n      <th></th>\n      <th></th>\n    </tr>\n  </thead>\n  <tbody>\n    <tr>\n      <th>ENSMUSG00000000001</th>\n      <td>16.0</td>\n      <td>18.0</td>\n      <td>11.0</td>\n      <td>18.0</td>\n      <td>16.0</td>\n      <td>8.0</td>\n      <td>7.0</td>\n      <td>2.0</td>\n      <td>1.0</td>\n      <td>9.0</td>\n      <td>...</td>\n      <td>7.0</td>\n      <td>13.0</td>\n      <td>11.0</td>\n      <td>11.0</td>\n      <td>9.0</td>\n      <td>11.0</td>\n      <td>1.0</td>\n      <td>11.0</td>\n      <td>5.0</td>\n      <td>7.0</td>\n    </tr>\n    <tr>\n      <th>ENSMUSG00000000028</th>\n      <td>0.0</td>\n      <td>4.0</td>\n      <td>NaN</td>\n      <td>NaN</td>\n      <td>0.0</td>\n      <td>0.0</td>\n      <td>NaN</td>\n      <td>NaN</td>\n      <td>0.0</td>\n      <td>0.0</td>\n      <td>...</td>\n      <td>NaN</td>\n      <td>0.0</td>\n      <td>0.0</td>\n      <td>0.0</td>\n      <td>0.0</td>\n      <td>19.0</td>\n      <td>0.0</td>\n      <td>0.0</td>\n      <td>0.0</td>\n      <td>0.0</td>\n    </tr>\n    <tr>\n      <th>ENSMUSG00000000058</th>\n      <td>2.0</td>\n      <td>2.0</td>\n      <td>3.0</td>\n      <td>0.0</td>\n      <td>2.0</td>\n      <td>1.0</td>\n      <td>7.0</td>\n      <td>0.0</td>\n      <td>0.0</td>\n      <td>0.0</td>\n      <td>...</td>\n      <td>0.0</td>\n      <td>0.0</td>\n      <td>2.0</td>\n      <td>3.0</td>\n      <td>0.0</td>\n      <td>3.0</td>\n      <td>0.0</td>\n      <td>1.0</td>\n      <td>1.0</td>\n      <td>8.0</td>\n    </tr>\n    <tr>\n      <th>ENSMUSG00000000078</th>\n      <td>NaN</td>\n      <td>10.0</td>\n      <td>8.0</td>\n      <td>0.0</td>\n      <td>13.0</td>\n      <td>3.0</td>\n      <td>NaN</td>\n      <td>2.0</td>\n      <td>0.0</td>\n      <td>0.0</td>\n      <td>...</td>\n      <td>0.0</td>\n      <td>11.0</td>\n      <td>41.0</td>\n      <td>11.0</td>\n      <td>12.0</td>\n      <td>8.0</td>\n      <td>0.0</td>\n      <td>30.0</td>\n      <td>10.0</td>\n      <td>23.0</td>\n    </tr>\n    <tr>\n      <th>ENSMUSG00000000088</th>\n      <td>3.0</td>\n      <td>3.0</td>\n      <td>4.0</td>\n      <td>7.0</td>\n      <td>4.0</td>\n      <td>3.0</td>\n      <td>4.0</td>\n      <td>2.0</td>\n      <td>0.0</td>\n      <td>2.0</td>\n      <td>...</td>\n      <td>11.0</td>\n      <td>7.0</td>\n      <td>7.0</td>\n      <td>5.0</td>\n      <td>4.0</td>\n      <td>5.0</td>\n      <td>3.0</td>\n      <td>7.0</td>\n      <td>1.0</td>\n      <td>2.0</td>\n    </tr>\n    <tr>\n      <th>...</th>\n      <td>...</td>\n      <td>...</td>\n      <td>...</td>\n      <td>...</td>\n      <td>...</td>\n      <td>...</td>\n      <td>...</td>\n      <td>...</td>\n      <td>...</td>\n      <td>...</td>\n      <td>...</td>\n      <td>...</td>\n      <td>...</td>\n      <td>...</td>\n      <td>...</td>\n      <td>...</td>\n      <td>...</td>\n      <td>...</td>\n      <td>...</td>\n      <td>...</td>\n      <td>...</td>\n    </tr>\n    <tr>\n      <th>ENSMUSG00000100937</th>\n      <td>0.0</td>\n      <td>0.0</td>\n      <td>0.0</td>\n      <td>0.0</td>\n      <td>0.0</td>\n      <td>0.0</td>\n      <td>0.0</td>\n      <td>0.0</td>\n      <td>0.0</td>\n      <td>0.0</td>\n      <td>...</td>\n      <td>0.0</td>\n      <td>0.0</td>\n      <td>0.0</td>\n      <td>0.0</td>\n      <td>0.0</td>\n      <td>0.0</td>\n      <td>0.0</td>\n      <td>0.0</td>\n      <td>0.0</td>\n      <td>0.0</td>\n    </tr>\n    <tr>\n      <th>ENSMUSG00000101609</th>\n      <td>0.0</td>\n      <td>0.0</td>\n      <td>0.0</td>\n      <td>0.0</td>\n      <td>0.0</td>\n      <td>0.0</td>\n      <td>0.0</td>\n      <td>0.0</td>\n      <td>0.0</td>\n      <td>NaN</td>\n      <td>...</td>\n      <td>0.0</td>\n      <td>0.0</td>\n      <td>0.0</td>\n      <td>0.0</td>\n      <td>0.0</td>\n      <td>0.0</td>\n      <td>0.0</td>\n      <td>0.0</td>\n      <td>0.0</td>\n      <td>0.0</td>\n    </tr>\n    <tr>\n      <th>ENSMUSG00000101892</th>\n      <td>2.0</td>\n      <td>9.0</td>\n      <td>7.0</td>\n      <td>6.0</td>\n      <td>6.0</td>\n      <td>2.0</td>\n      <td>1.0</td>\n      <td>0.0</td>\n      <td>5.0</td>\n      <td>1.0</td>\n      <td>...</td>\n      <td>6.0</td>\n      <td>3.0</td>\n      <td>15.0</td>\n      <td>2.0</td>\n      <td>2.0</td>\n      <td>5.0</td>\n      <td>4.0</td>\n      <td>6.0</td>\n      <td>7.0</td>\n      <td>2.0</td>\n    </tr>\n    <tr>\n      <th>ENSMUSG00000102101</th>\n      <td>0.0</td>\n      <td>0.0</td>\n      <td>0.0</td>\n      <td>0.0</td>\n      <td>0.0</td>\n      <td>1.0</td>\n      <td>0.0</td>\n      <td>0.0</td>\n      <td>0.0</td>\n      <td>0.0</td>\n      <td>...</td>\n      <td>0.0</td>\n      <td>1.0</td>\n      <td>0.0</td>\n      <td>0.0</td>\n      <td>1.0</td>\n      <td>0.0</td>\n      <td>0.0</td>\n      <td>1.0</td>\n      <td>1.0</td>\n      <td>0.0</td>\n    </tr>\n    <tr>\n      <th>ENSMUSG00000102252</th>\n      <td>0.0</td>\n      <td>NaN</td>\n      <td>0.0</td>\n      <td>0.0</td>\n      <td>0.0</td>\n      <td>0.0</td>\n      <td>0.0</td>\n      <td>0.0</td>\n      <td>NaN</td>\n      <td>0.0</td>\n      <td>...</td>\n      <td>0.0</td>\n      <td>0.0</td>\n      <td>0.0</td>\n      <td>0.0</td>\n      <td>0.0</td>\n      <td>0.0</td>\n      <td>0.0</td>\n      <td>0.0</td>\n      <td>0.0</td>\n      <td>0.0</td>\n    </tr>\n  </tbody>\n</table>\n<p>5779 rows × 737 columns</p>\n</div>"
     },
     "execution_count": 78,
     "metadata": {},
     "output_type": "execute_result"
    }
   ],
   "source": [
    "#c57_ex.loc[c57_ex[\"ID\"] == ens_non_sig_ids[\"Ensembl ID\"]]\n",
    "#ens_non_sig_ids[\"Ensembl ID\"]\n",
    "c57_ex_filtered = c57_ex.iloc[[i for i in range(len(c57_ex[\"ID\"])) if c57_ex[\"ID\"][i] in list(ens_non_sig_ids[\"Ensembl ID\"])]].set_index(\"ID\")\n",
    "cast_ex_filtered = cast_ex.iloc[[i for i in range(len(cast_ex[\"ID\"])) if cast_ex[\"ID\"][i] in list(ens_non_sig_ids[\"Ensembl ID\"])]].set_index(\"ID\")\n",
    "c57_ex_filtered"
   ],
   "metadata": {
    "collapsed": false,
    "ExecuteTime": {
     "end_time": "2023-12-15T00:20:39.571735881Z",
     "start_time": "2023-12-15T00:20:24.715632197Z"
    }
   }
  },
  {
   "cell_type": "markdown",
   "source": [],
   "metadata": {
    "collapsed": false
   }
  },
  {
   "cell_type": "code",
   "execution_count": 79,
   "outputs": [
    {
     "name": "stdout",
     "output_type": "stream",
     "text": [
      "removing: ENSMUSG00000001383\n",
      "removing: ENSMUSG00000001542\n",
      "removing: ENSMUSG00000004798\n",
      "removing: ENSMUSG00000004895\n",
      "removing: ENSMUSG00000005698\n",
      "removing: ENSMUSG00000005892\n",
      "removing: ENSMUSG00000009013\n",
      "removing: ENSMUSG00000013822\n",
      "removing: ENSMUSG00000014294\n",
      "removing: ENSMUSG00000014592\n",
      "removing: ENSMUSG00000015053\n",
      "removing: ENSMUSG00000015943\n",
      "removing: ENSMUSG00000018379\n",
      "removing: ENSMUSG00000020114\n",
      "removing: ENSMUSG00000020189\n",
      "removing: ENSMUSG00000020585\n",
      "removing: ENSMUSG00000020594\n",
      "removing: ENSMUSG00000020694\n",
      "removing: ENSMUSG00000020863\n",
      "removing: ENSMUSG00000021051\n",
      "removing: ENSMUSG00000021054\n",
      "removing: ENSMUSG00000021116\n",
      "removing: ENSMUSG00000021143\n",
      "removing: ENSMUSG00000021144\n",
      "removing: ENSMUSG00000021385\n",
      "removing: ENSMUSG00000021400\n",
      "removing: ENSMUSG00000021552\n",
      "removing: ENSMUSG00000021559\n",
      "removing: ENSMUSG00000021876\n",
      "removing: ENSMUSG00000022325\n",
      "removing: ENSMUSG00000022378\n",
      "removing: ENSMUSG00000022387\n",
      "removing: ENSMUSG00000022426\n",
      "removing: ENSMUSG00000022663\n",
      "removing: ENSMUSG00000022772\n",
      "removing: ENSMUSG00000022799\n",
      "removing: ENSMUSG00000022812\n",
      "removing: ENSMUSG00000023307\n",
      "removing: ENSMUSG00000023353\n",
      "removing: ENSMUSG00000024750\n",
      "removing: ENSMUSG00000024875\n",
      "removing: ENSMUSG00000024965\n",
      "removing: ENSMUSG00000025389\n",
      "removing: ENSMUSG00000025408\n",
      "removing: ENSMUSG00000025730\n",
      "removing: ENSMUSG00000026087\n",
      "removing: ENSMUSG00000026155\n",
      "removing: ENSMUSG00000026241\n",
      "removing: ENSMUSG00000026721\n",
      "removing: ENSMUSG00000027130\n",
      "removing: ENSMUSG00000027540\n",
      "removing: ENSMUSG00000027546\n",
      "removing: ENSMUSG00000027673\n",
      "removing: ENSMUSG00000027746\n",
      "removing: ENSMUSG00000027823\n",
      "removing: ENSMUSG00000027893\n",
      "removing: ENSMUSG00000028367\n",
      "removing: ENSMUSG00000028436\n",
      "removing: ENSMUSG00000028560\n",
      "removing: ENSMUSG00000028649\n",
      "removing: ENSMUSG00000028756\n",
      "removing: ENSMUSG00000028778\n",
      "removing: ENSMUSG00000028832\n",
      "removing: ENSMUSG00000028945\n",
      "removing: ENSMUSG00000029020\n",
      "removing: ENSMUSG00000029454\n",
      "removing: ENSMUSG00000029475\n",
      "removing: ENSMUSG00000030217\n",
      "removing: ENSMUSG00000031843\n",
      "removing: ENSMUSG00000032002\n",
      "removing: ENSMUSG00000032103\n",
      "removing: ENSMUSG00000032171\n",
      "removing: ENSMUSG00000032405\n",
      "removing: ENSMUSG00000032468\n",
      "removing: ENSMUSG00000032803\n",
      "removing: ENSMUSG00000033658\n",
      "removing: ENSMUSG00000033732\n",
      "removing: ENSMUSG00000033863\n",
      "removing: ENSMUSG00000033955\n",
      "removing: ENSMUSG00000034243\n",
      "removing: ENSMUSG00000034731\n",
      "removing: ENSMUSG00000035236\n",
      "removing: ENSMUSG00000035441\n",
      "removing: ENSMUSG00000035798\n",
      "removing: ENSMUSG00000035896\n",
      "removing: ENSMUSG00000036019\n",
      "removing: ENSMUSG00000036438\n",
      "removing: ENSMUSG00000036442\n",
      "removing: ENSMUSG00000036655\n",
      "removing: ENSMUSG00000036751\n",
      "removing: ENSMUSG00000036779\n",
      "removing: ENSMUSG00000036940\n",
      "removing: ENSMUSG00000037070\n",
      "removing: ENSMUSG00000037580\n",
      "removing: ENSMUSG00000037772\n",
      "removing: ENSMUSG00000038369\n",
      "removing: ENSMUSG00000038388\n",
      "removing: ENSMUSG00000038495\n",
      "removing: ENSMUSG00000039218\n",
      "removing: ENSMUSG00000039910\n",
      "removing: ENSMUSG00000039967\n",
      "removing: ENSMUSG00000040003\n",
      "removing: ENSMUSG00000040524\n",
      "removing: ENSMUSG00000041375\n",
      "removing: ENSMUSG00000041702\n",
      "removing: ENSMUSG00000044573\n",
      "removing: ENSMUSG00000044716\n",
      "removing: ENSMUSG00000044934\n",
      "removing: ENSMUSG00000046711\n",
      "removing: ENSMUSG00000049288\n",
      "removing: ENSMUSG00000049396\n",
      "removing: ENSMUSG00000051343\n",
      "removing: ENSMUSG00000052144\n",
      "removing: ENSMUSG00000052155\n",
      "removing: ENSMUSG00000052539\n",
      "removing: ENSMUSG00000052812\n",
      "removing: ENSMUSG00000052920\n",
      "removing: ENSMUSG00000052962\n",
      "removing: ENSMUSG00000053774\n",
      "removing: ENSMUSG00000053877\n",
      "removing: ENSMUSG00000056708\n",
      "removing: ENSMUSG00000057230\n",
      "removing: ENSMUSG00000058239\n",
      "removing: ENSMUSG00000058317\n",
      "removing: ENSMUSG00000058388\n",
      "removing: ENSMUSG00000059040\n",
      "removing: ENSMUSG00000059278\n",
      "removing: ENSMUSG00000059323\n",
      "removing: ENSMUSG00000059923\n",
      "removing: ENSMUSG00000060703\n",
      "removing: ENSMUSG00000060743\n",
      "removing: ENSMUSG00000061028\n",
      "removing: ENSMUSG00000061104\n",
      "removing: ENSMUSG00000061244\n",
      "removing: ENSMUSG00000061315\n",
      "removing: ENSMUSG00000069729\n",
      "removing: ENSMUSG00000069895\n",
      "removing: ENSMUSG00000070565\n",
      "removing: ENSMUSG00000071359\n",
      "removing: ENSMUSG00000079283\n",
      "removing: ENSMUSG00000081562\n",
      "removing: ENSMUSG00000095098\n",
      "removing: ENSMUSG00000001383\n",
      "removing: ENSMUSG00000004798\n",
      "removing: ENSMUSG00000004895\n",
      "removing: ENSMUSG00000005698\n",
      "removing: ENSMUSG00000005892\n",
      "removing: ENSMUSG00000009013\n",
      "removing: ENSMUSG00000013822\n",
      "removing: ENSMUSG00000014294\n",
      "removing: ENSMUSG00000014592\n",
      "removing: ENSMUSG00000015943\n",
      "removing: ENSMUSG00000018379\n",
      "removing: ENSMUSG00000020114\n",
      "removing: ENSMUSG00000020585\n",
      "removing: ENSMUSG00000020594\n",
      "removing: ENSMUSG00000020694\n",
      "removing: ENSMUSG00000020863\n",
      "removing: ENSMUSG00000021051\n",
      "removing: ENSMUSG00000021054\n",
      "removing: ENSMUSG00000021116\n",
      "removing: ENSMUSG00000021143\n",
      "removing: ENSMUSG00000021144\n",
      "removing: ENSMUSG00000021385\n",
      "removing: ENSMUSG00000021876\n",
      "removing: ENSMUSG00000022325\n",
      "removing: ENSMUSG00000022426\n",
      "removing: ENSMUSG00000022663\n",
      "removing: ENSMUSG00000022772\n",
      "removing: ENSMUSG00000022799\n",
      "removing: ENSMUSG00000022812\n",
      "removing: ENSMUSG00000023307\n",
      "removing: ENSMUSG00000023353\n",
      "removing: ENSMUSG00000024750\n",
      "removing: ENSMUSG00000024875\n",
      "removing: ENSMUSG00000025408\n",
      "removing: ENSMUSG00000025730\n",
      "removing: ENSMUSG00000026087\n",
      "removing: ENSMUSG00000026241\n",
      "removing: ENSMUSG00000026721\n",
      "removing: ENSMUSG00000027130\n",
      "removing: ENSMUSG00000027540\n",
      "removing: ENSMUSG00000027673\n",
      "removing: ENSMUSG00000027746\n",
      "removing: ENSMUSG00000027823\n",
      "removing: ENSMUSG00000027893\n",
      "removing: ENSMUSG00000028367\n",
      "removing: ENSMUSG00000028436\n",
      "removing: ENSMUSG00000028560\n",
      "removing: ENSMUSG00000028649\n",
      "removing: ENSMUSG00000028756\n",
      "removing: ENSMUSG00000028778\n",
      "removing: ENSMUSG00000028832\n",
      "removing: ENSMUSG00000028945\n",
      "removing: ENSMUSG00000029020\n",
      "removing: ENSMUSG00000029475\n",
      "removing: ENSMUSG00000031843\n",
      "removing: ENSMUSG00000032002\n",
      "removing: ENSMUSG00000032103\n",
      "removing: ENSMUSG00000032171\n",
      "removing: ENSMUSG00000032405\n",
      "removing: ENSMUSG00000032468\n",
      "removing: ENSMUSG00000032803\n",
      "removing: ENSMUSG00000033658\n",
      "removing: ENSMUSG00000033732\n",
      "removing: ENSMUSG00000033863\n",
      "removing: ENSMUSG00000033955\n",
      "removing: ENSMUSG00000034243\n",
      "removing: ENSMUSG00000035896\n",
      "removing: ENSMUSG00000036438\n",
      "removing: ENSMUSG00000036442\n",
      "removing: ENSMUSG00000036655\n",
      "removing: ENSMUSG00000036751\n",
      "removing: ENSMUSG00000037070\n",
      "removing: ENSMUSG00000037772\n",
      "removing: ENSMUSG00000038495\n",
      "removing: ENSMUSG00000039218\n",
      "removing: ENSMUSG00000039910\n",
      "removing: ENSMUSG00000041375\n",
      "removing: ENSMUSG00000044573\n",
      "removing: ENSMUSG00000044716\n",
      "removing: ENSMUSG00000046711\n",
      "removing: ENSMUSG00000049288\n",
      "removing: ENSMUSG00000049396\n",
      "removing: ENSMUSG00000051343\n",
      "removing: ENSMUSG00000052144\n",
      "removing: ENSMUSG00000052962\n",
      "removing: ENSMUSG00000053774\n",
      "removing: ENSMUSG00000053877\n",
      "removing: ENSMUSG00000056708\n",
      "removing: ENSMUSG00000058239\n",
      "removing: ENSMUSG00000058388\n",
      "removing: ENSMUSG00000059040\n",
      "removing: ENSMUSG00000059278\n",
      "removing: ENSMUSG00000059323\n",
      "removing: ENSMUSG00000059923\n",
      "removing: ENSMUSG00000060703\n",
      "removing: ENSMUSG00000060743\n",
      "removing: ENSMUSG00000061104\n",
      "removing: ENSMUSG00000061244\n",
      "removing: ENSMUSG00000061315\n",
      "removing: ENSMUSG00000069895\n",
      "removing: ENSMUSG00000071359\n",
      "removing: ENSMUSG00000079283\n",
      "removing: ENSMUSG00000081562\n",
      "removing: ENSMUSG00000095098\n"
     ]
    }
   ],
   "source": [
    "#removing cells if NAs make a quarter of the data\n",
    "for col in c57_ex_filtered.columns:\n",
    "    if len(c57_ex_filtered[col][c57_ex_filtered[col].isna()]) >= len(c57_ex_filtered[col]) / 4:\n",
    "        c57_ex_filtered.drop(col, axis=1, inplace=True)\n",
    "        print(\"removing: \" + col)\n",
    "\n",
    "for col in cast_ex_filtered.columns:\n",
    "    if len(cast_ex_filtered[col][cast_ex_filtered[col].isna()]) >= len(cast_ex_filtered[col]) / 4:\n",
    "        cast_ex_filtered.drop(col, axis=1, inplace=True)\n",
    "        print(\"removing: \" + col)\n",
    "#\n",
    "# #removing genes\n",
    "#\n",
    "for i in c57_ex_filtered.index:\n",
    "    if len(c57_ex_filtered.loc[i, :][c57_ex_filtered.loc[i, :].isna()]) >= len(c57_ex_filtered.loc[i, :]) / 2:\n",
    "        c57_ex_filtered.drop(index=i, inplace=True)\n",
    "        print(\"removing: \" + i)\n",
    "#\n",
    "for i in cast_ex_filtered.index:\n",
    "    if len(cast_ex_filtered.loc[i, :][cast_ex_filtered.loc[i, :].isna()]) >= len(cast_ex_filtered.loc[i, :]) / 2:\n",
    "        cast_ex_filtered.drop(index=i, inplace=True)\n",
    "        print(\"removing: \" + i)"
   ],
   "metadata": {
    "collapsed": false,
    "ExecuteTime": {
     "end_time": "2023-12-15T00:20:43.280320822Z",
     "start_time": "2023-12-15T00:20:39.571853171Z"
    }
   }
  },
  {
   "cell_type": "code",
   "execution_count": 80,
   "outputs": [
    {
     "data": {
      "text/plain": "True"
     },
     "execution_count": 80,
     "metadata": {},
     "output_type": "execute_result"
    }
   ],
   "source": [
    "def remove_low(row):\n",
    "    return np.nanmean(row) > 1\n",
    "\n",
    "c57_ex_filtered = c57_ex_filtered.loc[c57_ex_filtered.apply(remove_low, axis=1)]\n",
    "cast_ex_filtered = cast_ex_filtered.loc[cast_ex_filtered.apply(remove_low, axis=1)]\n",
    "\n",
    "#Removing non-consistent annotation among alleles\n",
    "cast_counts =cast_ex_filtered.loc[[index for index in c57_ex_filtered.index.values if index in cast_ex_filtered.index.values],:]\n",
    "c57_counts = c57_ex_filtered.loc[[index for index in cast_ex_filtered.index.values if index in c57_ex_filtered.index.values],:]\n",
    "#sanity check\n",
    "all(cast_counts.index.values == c57_counts.index.values)\n",
    "\n",
    "\n"
   ],
   "metadata": {
    "collapsed": false,
    "ExecuteTime": {
     "end_time": "2023-12-15T00:20:44.202505479Z",
     "start_time": "2023-12-15T00:20:43.282715594Z"
    }
   }
  },
  {
   "cell_type": "markdown",
   "source": [
    "Making Cell indexes consistent"
   ],
   "metadata": {
    "collapsed": false
   }
  },
  {
   "cell_type": "code",
   "execution_count": 81,
   "outputs": [
    {
     "data": {
      "text/plain": "True"
     },
     "execution_count": 81,
     "metadata": {},
     "output_type": "execute_result"
    }
   ],
   "source": [
    "cast_counts = cast_counts[[index for index in list(c57_counts.columns) if index in list(cast_counts.columns)]]\n",
    "c57_counts = c57_counts[[index for index in list(cast_counts.columns) if index in list(c57_counts.columns)]]\n",
    "list(cast_counts.columns) == list(c57_counts.columns)"
   ],
   "metadata": {
    "collapsed": false,
    "ExecuteTime": {
     "end_time": "2023-12-15T00:20:44.267172032Z",
     "start_time": "2023-12-15T00:20:44.223322799Z"
    }
   }
  },
  {
   "cell_type": "markdown",
   "source": [
    "Imputing missing values"
   ],
   "metadata": {
    "collapsed": false
   }
  },
  {
   "cell_type": "code",
   "execution_count": 82,
   "outputs": [],
   "source": [
    "import pandas as pd\n",
    "import numpy as np\n",
    "import matplotlib.pyplot as plt\n",
    "import seaborn as sns\n",
    "import miceforest as mf\n",
    "import random\n",
    "import sklearn.neighbors._base\n",
    "import sys\n",
    "sys.modules['sklearn.neighbors.base'] = sklearn.neighbors._base\n",
    "from missingpy import MissForest\n",
    "from sklearn.impute import KNNImputer\n",
    "\n",
    "#impute_dict = {}\n",
    "#regressor = KNNImputer(n_neighbors=25)\n",
    "\n",
    "#impute_dict[\"c57\"] = pd.DataFrame(np.round(regressor.fit_transform(c57_counts)),\n",
    "#                           columns=list(c57_counts.columns),\n",
    "#                           index=list(c57_counts.index))\n",
    "#impute_dict[\"cast\"] = pd.DataFrame(np.round(regressor.fit_transform(cast_counts)),\n",
    "#                                  columns=list(cast_counts.columns),\n",
    "#                                  index=list(cast_counts.index))\n",
    "\n",
    "\n",
    "# kernel = mf.ImputationKernel(\n",
    "#     data=c57_counts,\n",
    "#     save_all_iterations=True,\n",
    "#     random_state=1343\n",
    "# )\n",
    "#\n",
    "# imputer = MissForest(max_iter = 3, max_depth = 50, n_jobs = 8, verbose=1)\n",
    "# c57_imputed = imputer.fit_transform(c57_counts)\n",
    "# c57_imputed = pd.DataFrame(c57_imputed, columns = c57_counts.columns, index = c57_counts.index).round(1)\n",
    "#\n",
    "# cast_imputed = imputer.fit_transform(cast_counts)\n",
    "# cast_imputed = pd.DataFrame(cast_imputed, columns = cast_counts.columns, index = cast_counts.index).round(1)\n",
    "\n",
    "\n"
   ],
   "metadata": {
    "collapsed": false,
    "ExecuteTime": {
     "end_time": "2023-12-15T00:20:44.270918610Z",
     "start_time": "2023-12-15T00:20:44.269987283Z"
    }
   }
  },
  {
   "cell_type": "code",
   "execution_count": 83,
   "outputs": [],
   "source": [
    "#saving data\n",
    "#import pickle\n",
    "#imputed_as_counts = open(\"mf_imputed_as_counts.pkl\", \"wb\")\n",
    "#pickle.dump(impute_dict, imputed_as_counts)\n",
    "#imputed_as_counts.close()"
   ],
   "metadata": {
    "collapsed": false,
    "ExecuteTime": {
     "end_time": "2023-12-15T00:20:44.275882583Z",
     "start_time": "2023-12-15T00:20:44.272993683Z"
    }
   }
  },
  {
   "cell_type": "code",
   "execution_count": 84,
   "outputs": [],
   "source": [
    "#loading in imputed data\n",
    "import pickle\n",
    "file = open(\"data/mf_imputed_as_counts.pkl\", 'rb')\n",
    "impute_dict = pickle.load(file)\n",
    "file.close()\n"
   ],
   "metadata": {
    "collapsed": false,
    "ExecuteTime": {
     "end_time": "2023-12-15T00:20:44.317605853Z",
     "start_time": "2023-12-15T00:20:44.276996669Z"
    }
   }
  },
  {
   "cell_type": "code",
   "execution_count": 85,
   "outputs": [
    {
     "name": "stderr",
     "output_type": "stream",
     "text": [
      "/home/ben/.virtualenvs/tx_noise/lib/python3.8/site-packages/scprep/plot/utils.py:104: UserWarning: Matplotlib is currently using module://matplotlib_inline.backend_inline, which is a non-GUI backend, so cannot show the figure.\n",
      "  fig.show()\n"
     ]
    },
    {
     "data": {
      "text/plain": "<Axes: xlabel='Library size', ylabel='Number of cells'>"
     },
     "execution_count": 85,
     "metadata": {},
     "output_type": "execute_result"
    },
    {
     "data": {
      "text/plain": "<Figure size 640x480 with 1 Axes>",
      "image/png": "[encoded data removed]"
     },
     "metadata": {},
     "output_type": "display_data"
    }
   ],
   "source": [
    "import scprep\n",
    "scprep.plot.plot_library_size(impute_dict[\"c57\"].transpose())"
   ],
   "metadata": {
    "collapsed": false,
    "ExecuteTime": {
     "end_time": "2023-12-15T00:20:44.586214142Z",
     "start_time": "2023-12-15T00:20:44.317699283Z"
    }
   }
  },
  {
   "cell_type": "code",
   "execution_count": 86,
   "outputs": [],
   "source": [
    "for allele in impute_dict.keys():\n",
    "    impute_dict[allele] = scprep.filter.filter_library_size(impute_dict[allele].transpose(), cutoff=9000, keep_cells=\"above\").transpose()\n"
   ],
   "metadata": {
    "collapsed": false,
    "ExecuteTime": {
     "end_time": "2023-12-15T00:20:44.632023938Z",
     "start_time": "2023-12-15T00:20:44.589533171Z"
    }
   }
  },
  {
   "cell_type": "markdown",
   "source": [
    "correcting for cell index consistency"
   ],
   "metadata": {
    "collapsed": false
   }
  },
  {
   "cell_type": "code",
   "execution_count": 87,
   "outputs": [
    {
     "data": {
      "text/plain": "True"
     },
     "execution_count": 87,
     "metadata": {},
     "output_type": "execute_result"
    }
   ],
   "source": [
    "impute_dict[\"cast\"] = impute_dict[\"cast\"][[index for index in list(impute_dict[\"c57\"].columns) if index in list(impute_dict[\"cast\"].columns)]]\n",
    "\n",
    "impute_dict[\"c57\"] = impute_dict[\"c57\"][[index for index in list(impute_dict[\"cast\"].columns) if index in list(impute_dict[\"c57\"].columns)]]\n",
    "\n",
    "\n",
    "#sanity check\n",
    "list(impute_dict[\"c57\"].columns) == list(impute_dict[\"cast\"].columns)"
   ],
   "metadata": {
    "collapsed": false,
    "ExecuteTime": {
     "end_time": "2023-12-15T00:20:44.662142627Z",
     "start_time": "2023-12-15T00:20:44.630631993Z"
    }
   }
  },
  {
   "cell_type": "markdown",
   "source": [
    "library size normalization"
   ],
   "metadata": {
    "collapsed": false
   }
  },
  {
   "cell_type": "code",
   "execution_count": 88,
   "outputs": [
    {
     "data": {
      "text/plain": "                    AACGCTACCACCAT  AACGCTACCGTTAC  AACGCTAGAAGGCT  \\\nID                                                                   \nENSMUSG00000000001        7.284268        9.005434       11.222721   \nENSMUSG00000000028        0.000000        0.000000        0.187045   \nENSMUSG00000000058        2.081220        0.000000        1.870453   \nENSMUSG00000000078        9.885793        0.000000        0.000000   \nENSMUSG00000000088        3.121829        4.502717        5.611360   \n...                            ...             ...             ...   \nENSMUSG00000097290        0.000000        0.000000        3.740907   \nENSMUSG00000097772        0.000000        0.000000        3.740907   \nENSMUSG00000098234        2.081220        6.003623        0.000000   \nENSMUSG00000098332        3.121829        0.000000        3.740907   \nENSMUSG00000101892        5.203049        6.003623        0.935227   \n\n                    AACGCTATTGCTCC  AACGCTCAACGGTC  AACGCTCAGTGGAG  \\\nID                                                                   \nENSMUSG00000000001        9.071546       14.239364        5.403355   \nENSMUSG00000000028        2.556527        0.000000        0.000000   \nENSMUSG00000000058        0.000000        0.000000        1.080671   \nENSMUSG00000000078       15.669035        0.000000        9.726040   \nENSMUSG00000000088        1.649372        1.898582        3.242013   \n...                            ...             ...             ...   \nENSMUSG00000097290        0.000000        4.746455        0.000000   \nENSMUSG00000097772        3.298744        2.847873        0.000000   \nENSMUSG00000098234        0.824686        0.000000        1.080671   \nENSMUSG00000098332        0.824686        6.645036        2.161342   \nENSMUSG00000101892        4.948116        8.543618        5.403355   \n\n                    AACGCTCCGCACCT  AACGCTCGAACCAC  AACGCTCTTCTCCT  \\\nID                                                                   \nENSMUSG00000000001       14.022479        6.804896       17.340946   \nENSMUSG00000000028        0.584270        0.000000        0.000000   \nENSMUSG00000000058        2.337080        0.000000        0.000000   \nENSMUSG00000000078        9.815735       10.207345       15.606851   \nENSMUSG00000000088        3.505620        1.701224        3.468189   \n...                            ...             ...             ...   \nENSMUSG00000097290        0.000000        6.804896        0.000000   \nENSMUSG00000097772        5.842700        0.000000        0.000000   \nENSMUSG00000098234        2.337080        0.000000        1.734095   \nENSMUSG00000098332        0.000000        1.701224       10.404568   \nENSMUSG00000101892        5.842700        3.402448        0.000000   \n\n                    AACGCTGCGTCACC  ...  TGAGGTGAGGAGGT  TGAGGTGATTGCGC  \\\nID                                  ...                                   \nENSMUSG00000000001        7.339427  ...       13.028838       16.022906   \nENSMUSG00000000028        2.495405  ...        0.000000        0.000000   \nENSMUSG00000000058        1.467885  ...        0.000000        0.000000   \nENSMUSG00000000078       14.678855  ...        0.000000        0.000000   \nENSMUSG00000000088        0.000000  ...        8.143024        5.098197   \n...                            ...  ...             ...             ...   \nENSMUSG00000097290        4.403656  ...        0.000000        2.184942   \nENSMUSG00000097772        0.000000  ...        0.000000        0.728314   \nENSMUSG00000098234        0.000000  ...        0.000000        0.728314   \nENSMUSG00000098332       10.275198  ...        0.000000        8.011453   \nENSMUSG00000101892        7.339427  ...        3.257209        5.098197   \n\n                    TGAGGTGCAAGGTT  TGAGGTGCGAGGAT  TGAGGTGGCGATAT  \\\nID                                                                   \nENSMUSG00000000001        8.622565       15.744536       10.777779   \nENSMUSG00000000028        4.311283        0.000000        0.000000   \nENSMUSG00000000058        0.000000        0.000000        0.000000   \nENSMUSG00000000078       22.274960       11.450572       16.166668   \nENSMUSG00000000088        2.874188        2.862643        2.155556   \n...                            ...             ...             ...   \nENSMUSG00000097290        2.155641        0.000000        1.077778   \nENSMUSG00000097772        0.000000        1.431321        7.544445   \nENSMUSG00000098234        1.437094        0.000000        4.311111   \nENSMUSG00000098332        1.437094        1.431321        8.622223   \nENSMUSG00000101892        1.437094        0.000000        0.000000   \n\n                    TGAGGTGGTAGCAC  TGAGGTGTACATAC  TGAGGTGTAGATGG  \\\nID                                                                   \nENSMUSG00000000001       19.331337        5.147570       16.274415   \nENSMUSG00000000028        0.000000        0.000000        0.000000   \nENSMUSG00000000058        1.841080        0.000000        4.882324   \nENSMUSG00000000078        0.000000        0.000000        0.000000   \nENSMUSG00000000088        2.761620       10.295141        3.254883   \n...                            ...             ...             ...   \nENSMUSG00000097290        1.841080        0.000000        2.441162   \nENSMUSG00000097772        0.000000        7.721356        1.627441   \nENSMUSG00000098234        1.841080        2.573785        0.813721   \nENSMUSG00000098332        3.682159        0.000000        2.441162   \nENSMUSG00000101892        4.602699        0.000000        1.627441   \n\n                    TGAGGTTATCCATA  TGAGGTTTGCTCGT  \nID                                                  \nENSMUSG00000000001        8.584627        8.849801  \nENSMUSG00000000028        0.000000        1.474967  \nENSMUSG00000000058        0.000000        2.212450  \nENSMUSG00000000078        7.153856       11.062251  \nENSMUSG00000000088        4.292314        8.112318  \n...                            ...             ...  \nENSMUSG00000097290        2.861542        2.949934  \nENSMUSG00000097772        2.861542        0.000000  \nENSMUSG00000098234        2.861542        0.737483  \nENSMUSG00000098332        1.430771        6.637351  \nENSMUSG00000101892        7.153856        5.162384  \n\n[3681 rows x 704 columns]",
      "text/html": "<div>\n<style scoped>\n    .dataframe tbody tr th:only-of-type {\n        vertical-align: middle;\n    }\n\n    .dataframe tbody tr th {\n        vertical-align: top;\n    }\n\n    .dataframe thead th {\n        text-align: right;\n    }\n</style>\n<table border=\"1\" class=\"dataframe\">\n  <thead>\n    <tr style=\"text-align: right;\">\n      <th></th>\n      <th>AACGCTACCACCAT</th>\n      <th>AACGCTACCGTTAC</th>\n      <th>AACGCTAGAAGGCT</th>\n      <th>AACGCTATTGCTCC</th>\n      <th>AACGCTCAACGGTC</th>\n      <th>AACGCTCAGTGGAG</th>\n      <th>AACGCTCCGCACCT</th>\n      <th>AACGCTCGAACCAC</th>\n      <th>AACGCTCTTCTCCT</th>\n      <th>AACGCTGCGTCACC</th>\n      <th>...</th>\n      <th>TGAGGTGAGGAGGT</th>\n      <th>TGAGGTGATTGCGC</th>\n      <th>TGAGGTGCAAGGTT</th>\n      <th>TGAGGTGCGAGGAT</th>\n      <th>TGAGGTGGCGATAT</th>\n      <th>TGAGGTGGTAGCAC</th>\n      <th>TGAGGTGTACATAC</th>\n      <th>TGAGGTGTAGATGG</th>\n      <th>TGAGGTTATCCATA</th>\n      <th>TGAGGTTTGCTCGT</th>\n    </tr>\n    <tr>\n      <th>ID</th>\n      <th></th>\n      <th></th>\n      <th></th>\n      <th></th>\n      <th></th>\n      <th></th>\n      <th></th>\n      <th></th>\n      <th></th>\n      <th></th>\n      <th></th>\n      <th></th>\n      <th></th>\n      <th></th>\n      <th></th>\n      <th></th>\n      <th></th>\n      <th></th>\n      <th></th>\n      <th></th>\n      <th></th>\n    </tr>\n  </thead>\n  <tbody>\n    <tr>\n      <th>ENSMUSG00000000001</th>\n      <td>7.284268</td>\n      <td>9.005434</td>\n      <td>11.222721</td>\n      <td>9.071546</td>\n      <td>14.239364</td>\n      <td>5.403355</td>\n      <td>14.022479</td>\n      <td>6.804896</td>\n      <td>17.340946</td>\n      <td>7.339427</td>\n      <td>...</td>\n      <td>13.028838</td>\n      <td>16.022906</td>\n      <td>8.622565</td>\n      <td>15.744536</td>\n      <td>10.777779</td>\n      <td>19.331337</td>\n      <td>5.147570</td>\n      <td>16.274415</td>\n      <td>8.584627</td>\n      <td>8.849801</td>\n    </tr>\n    <tr>\n      <th>ENSMUSG00000000028</th>\n      <td>0.000000</td>\n      <td>0.000000</td>\n      <td>0.187045</td>\n      <td>2.556527</td>\n      <td>0.000000</td>\n      <td>0.000000</td>\n      <td>0.584270</td>\n      <td>0.000000</td>\n      <td>0.000000</td>\n      <td>2.495405</td>\n      <td>...</td>\n      <td>0.000000</td>\n      <td>0.000000</td>\n      <td>4.311283</td>\n      <td>0.000000</td>\n      <td>0.000000</td>\n      <td>0.000000</td>\n      <td>0.000000</td>\n      <td>0.000000</td>\n      <td>0.000000</td>\n      <td>1.474967</td>\n    </tr>\n    <tr>\n      <th>ENSMUSG00000000058</th>\n      <td>2.081220</td>\n      <td>0.000000</td>\n      <td>1.870453</td>\n      <td>0.000000</td>\n      <td>0.000000</td>\n      <td>1.080671</td>\n      <td>2.337080</td>\n      <td>0.000000</td>\n      <td>0.000000</td>\n      <td>1.467885</td>\n      <td>...</td>\n      <td>0.000000</td>\n      <td>0.000000</td>\n      <td>0.000000</td>\n      <td>0.000000</td>\n      <td>0.000000</td>\n      <td>1.841080</td>\n      <td>0.000000</td>\n      <td>4.882324</td>\n      <td>0.000000</td>\n      <td>2.212450</td>\n    </tr>\n    <tr>\n      <th>ENSMUSG00000000078</th>\n      <td>9.885793</td>\n      <td>0.000000</td>\n      <td>0.000000</td>\n      <td>15.669035</td>\n      <td>0.000000</td>\n      <td>9.726040</td>\n      <td>9.815735</td>\n      <td>10.207345</td>\n      <td>15.606851</td>\n      <td>14.678855</td>\n      <td>...</td>\n      <td>0.000000</td>\n      <td>0.000000</td>\n      <td>22.274960</td>\n      <td>11.450572</td>\n      <td>16.166668</td>\n      <td>0.000000</td>\n      <td>0.000000</td>\n      <td>0.000000</td>\n      <td>7.153856</td>\n      <td>11.062251</td>\n    </tr>\n    <tr>\n      <th>ENSMUSG00000000088</th>\n      <td>3.121829</td>\n      <td>4.502717</td>\n      <td>5.611360</td>\n      <td>1.649372</td>\n      <td>1.898582</td>\n      <td>3.242013</td>\n      <td>3.505620</td>\n      <td>1.701224</td>\n      <td>3.468189</td>\n      <td>0.000000</td>\n      <td>...</td>\n      <td>8.143024</td>\n      <td>5.098197</td>\n      <td>2.874188</td>\n      <td>2.862643</td>\n      <td>2.155556</td>\n      <td>2.761620</td>\n      <td>10.295141</td>\n      <td>3.254883</td>\n      <td>4.292314</td>\n      <td>8.112318</td>\n    </tr>\n    <tr>\n      <th>...</th>\n      <td>...</td>\n      <td>...</td>\n      <td>...</td>\n      <td>...</td>\n      <td>...</td>\n      <td>...</td>\n      <td>...</td>\n      <td>...</td>\n      <td>...</td>\n      <td>...</td>\n      <td>...</td>\n      <td>...</td>\n      <td>...</td>\n      <td>...</td>\n      <td>...</td>\n      <td>...</td>\n      <td>...</td>\n      <td>...</td>\n      <td>...</td>\n      <td>...</td>\n      <td>...</td>\n    </tr>\n    <tr>\n      <th>ENSMUSG00000097290</th>\n      <td>0.000000</td>\n      <td>0.000000</td>\n      <td>3.740907</td>\n      <td>0.000000</td>\n      <td>4.746455</td>\n      <td>0.000000</td>\n      <td>0.000000</td>\n      <td>6.804896</td>\n      <td>0.000000</td>\n      <td>4.403656</td>\n      <td>...</td>\n      <td>0.000000</td>\n      <td>2.184942</td>\n      <td>2.155641</td>\n      <td>0.000000</td>\n      <td>1.077778</td>\n      <td>1.841080</td>\n      <td>0.000000</td>\n      <td>2.441162</td>\n      <td>2.861542</td>\n      <td>2.949934</td>\n    </tr>\n    <tr>\n      <th>ENSMUSG00000097772</th>\n      <td>0.000000</td>\n      <td>0.000000</td>\n      <td>3.740907</td>\n      <td>3.298744</td>\n      <td>2.847873</td>\n      <td>0.000000</td>\n      <td>5.842700</td>\n      <td>0.000000</td>\n      <td>0.000000</td>\n      <td>0.000000</td>\n      <td>...</td>\n      <td>0.000000</td>\n      <td>0.728314</td>\n      <td>0.000000</td>\n      <td>1.431321</td>\n      <td>7.544445</td>\n      <td>0.000000</td>\n      <td>7.721356</td>\n      <td>1.627441</td>\n      <td>2.861542</td>\n      <td>0.000000</td>\n    </tr>\n    <tr>\n      <th>ENSMUSG00000098234</th>\n      <td>2.081220</td>\n      <td>6.003623</td>\n      <td>0.000000</td>\n      <td>0.824686</td>\n      <td>0.000000</td>\n      <td>1.080671</td>\n      <td>2.337080</td>\n      <td>0.000000</td>\n      <td>1.734095</td>\n      <td>0.000000</td>\n      <td>...</td>\n      <td>0.000000</td>\n      <td>0.728314</td>\n      <td>1.437094</td>\n      <td>0.000000</td>\n      <td>4.311111</td>\n      <td>1.841080</td>\n      <td>2.573785</td>\n      <td>0.813721</td>\n      <td>2.861542</td>\n      <td>0.737483</td>\n    </tr>\n    <tr>\n      <th>ENSMUSG00000098332</th>\n      <td>3.121829</td>\n      <td>0.000000</td>\n      <td>3.740907</td>\n      <td>0.824686</td>\n      <td>6.645036</td>\n      <td>2.161342</td>\n      <td>0.000000</td>\n      <td>1.701224</td>\n      <td>10.404568</td>\n      <td>10.275198</td>\n      <td>...</td>\n      <td>0.000000</td>\n      <td>8.011453</td>\n      <td>1.437094</td>\n      <td>1.431321</td>\n      <td>8.622223</td>\n      <td>3.682159</td>\n      <td>0.000000</td>\n      <td>2.441162</td>\n      <td>1.430771</td>\n      <td>6.637351</td>\n    </tr>\n    <tr>\n      <th>ENSMUSG00000101892</th>\n      <td>5.203049</td>\n      <td>6.003623</td>\n      <td>0.935227</td>\n      <td>4.948116</td>\n      <td>8.543618</td>\n      <td>5.403355</td>\n      <td>5.842700</td>\n      <td>3.402448</td>\n      <td>0.000000</td>\n      <td>7.339427</td>\n      <td>...</td>\n      <td>3.257209</td>\n      <td>5.098197</td>\n      <td>1.437094</td>\n      <td>0.000000</td>\n      <td>0.000000</td>\n      <td>4.602699</td>\n      <td>0.000000</td>\n      <td>1.627441</td>\n      <td>7.153856</td>\n      <td>5.162384</td>\n    </tr>\n  </tbody>\n</table>\n<p>3681 rows × 704 columns</p>\n</div>"
     },
     "execution_count": 88,
     "metadata": {},
     "output_type": "execute_result"
    }
   ],
   "source": [
    "ln_impute_dict = {}\n",
    "for allele in impute_dict.keys():\n",
    "    ln_impute_dict[allele] = scprep.normalize.library_size_normalize(impute_dict[allele].transpose(), rescale=\"mean\").transpose()\n",
    "ln_impute_dict[\"cast\"]"
   ],
   "metadata": {
    "collapsed": false,
    "ExecuteTime": {
     "end_time": "2023-12-15T00:20:44.704757524Z",
     "start_time": "2023-12-15T00:20:44.663577332Z"
    }
   }
  },
  {
   "cell_type": "code",
   "execution_count": 89,
   "outputs": [],
   "source": [
    "#performing my own library size norm that handles Nas\n",
    "\n",
    "#remove low lib size\n",
    "cast_counts = cast_counts.loc[:,cast_counts.sum(axis=0) >= 100]\n",
    "c57_counts = c57_counts.loc[:,c57_counts.sum(axis=0) >= 100]\n",
    "#\n",
    "#cast_counts = cast_counts.div(cast_counts.sum(axis=0)) * 10000\n",
    "#c57_counts = c57_counts.div(c57_counts.sum(axis=0)) * 10000\n",
    "\n",
    "\n",
    "#cast_counts"
   ],
   "metadata": {
    "collapsed": false,
    "ExecuteTime": {
     "end_time": "2023-12-15T00:20:44.708999460Z",
     "start_time": "2023-12-15T00:20:44.704843914Z"
    }
   }
  },
  {
   "cell_type": "code",
   "execution_count": 90,
   "outputs": [],
   "source": [
    "counts_l = scprep.utils.check_consistent_columns([cast_counts,c57_counts])"
   ],
   "metadata": {
    "collapsed": false,
    "ExecuteTime": {
     "end_time": "2023-12-15T00:20:44.803097284Z",
     "start_time": "2023-12-15T00:20:44.711221363Z"
    }
   }
  },
  {
   "cell_type": "code",
   "execution_count": 91,
   "outputs": [
    {
     "data": {
      "text/plain": "                    AACGCTACCACCAT  AACGCTACCGTTAC  AACGCTAGAAGGCT  \\\nID                                                                   \nENSMUSG00000000001             7.0             6.0            12.0   \nENSMUSG00000000028             0.0             0.0             NaN   \nENSMUSG00000000058             2.0             0.0             2.0   \nENSMUSG00000000078             NaN             0.0             0.0   \nENSMUSG00000000088             3.0             3.0             6.0   \n...                            ...             ...             ...   \nENSMUSG00000097290             0.0             0.0             4.0   \nENSMUSG00000097772             0.0             0.0             4.0   \nENSMUSG00000098234             2.0             4.0             0.0   \nENSMUSG00000098332             3.0             0.0             4.0   \nENSMUSG00000101892             5.0             4.0             1.0   \n\n                    AACGCTATTGCTCC  AACGCTCAACGGTC  AACGCTCAGTGGAG  \\\nID                                                                   \nENSMUSG00000000001            11.0            15.0             5.0   \nENSMUSG00000000028             NaN             0.0             0.0   \nENSMUSG00000000058             0.0             0.0             1.0   \nENSMUSG00000000078            19.0             0.0             9.0   \nENSMUSG00000000088             2.0             2.0             3.0   \n...                            ...             ...             ...   \nENSMUSG00000097290             0.0             5.0             0.0   \nENSMUSG00000097772             4.0             3.0             0.0   \nENSMUSG00000098234             1.0             0.0             1.0   \nENSMUSG00000098332             1.0             7.0             2.0   \nENSMUSG00000101892             6.0             9.0             5.0   \n\n                    AACGCTCCGCACCT  AACGCTCGAACCAC  AACGCTCGTTCAAC  \\\nID                                                                   \nENSMUSG00000000001            12.0             4.0             1.0   \nENSMUSG00000000028             NaN             0.0             0.0   \nENSMUSG00000000058             2.0             0.0             0.0   \nENSMUSG00000000078             NaN             6.0             0.0   \nENSMUSG00000000088             3.0             1.0             0.0   \n...                            ...             ...             ...   \nENSMUSG00000097290             0.0             4.0             0.0   \nENSMUSG00000097772             5.0             0.0             0.0   \nENSMUSG00000098234             2.0             0.0             0.0   \nENSMUSG00000098332             0.0             1.0             0.0   \nENSMUSG00000101892             5.0             2.0             0.0   \n\n                    AACGCTCTTCTCCT  ...  TGAGGTGAGGAGGT  TGAGGTGATTGCGC  \\\nID                                  ...                                   \nENSMUSG00000000001            10.0  ...             8.0            22.0   \nENSMUSG00000000028             0.0  ...             0.0             0.0   \nENSMUSG00000000058             0.0  ...             0.0             0.0   \nENSMUSG00000000078             9.0  ...             0.0             0.0   \nENSMUSG00000000088             2.0  ...             5.0             7.0   \n...                            ...  ...             ...             ...   \nENSMUSG00000097290             0.0  ...             0.0             3.0   \nENSMUSG00000097772             0.0  ...             0.0             1.0   \nENSMUSG00000098234             1.0  ...             0.0             1.0   \nENSMUSG00000098332             6.0  ...             0.0            11.0   \nENSMUSG00000101892             0.0  ...             2.0             7.0   \n\n                    TGAGGTGCAAGGTT  TGAGGTGCGAGGAT  TGAGGTGGCGATAT  \\\nID                                                                   \nENSMUSG00000000001            12.0            11.0            10.0   \nENSMUSG00000000028             6.0             0.0             0.0   \nENSMUSG00000000058             0.0             0.0             0.0   \nENSMUSG00000000078            31.0             8.0            15.0   \nENSMUSG00000000088             4.0             2.0             2.0   \n...                            ...             ...             ...   \nENSMUSG00000097290             3.0             0.0             1.0   \nENSMUSG00000097772             0.0             1.0             7.0   \nENSMUSG00000098234             2.0             0.0             4.0   \nENSMUSG00000098332             2.0             1.0             8.0   \nENSMUSG00000101892             2.0             0.0             0.0   \n\n                    TGAGGTGGTAGCAC  TGAGGTGTACATAC  TGAGGTGTAGATGG  \\\nID                                                                   \nENSMUSG00000000001            21.0             2.0            20.0   \nENSMUSG00000000028             0.0             0.0             0.0   \nENSMUSG00000000058             2.0             0.0             6.0   \nENSMUSG00000000078             0.0             0.0             0.0   \nENSMUSG00000000088             3.0             4.0             4.0   \n...                            ...             ...             ...   \nENSMUSG00000097290             2.0             0.0             3.0   \nENSMUSG00000097772             0.0             3.0             2.0   \nENSMUSG00000098234             2.0             1.0             1.0   \nENSMUSG00000098332             4.0             0.0             3.0   \nENSMUSG00000101892             5.0             0.0             2.0   \n\n                    TGAGGTTATCCATA  TGAGGTTTGCTCGT  \nID                                                  \nENSMUSG00000000001             6.0            12.0  \nENSMUSG00000000028             0.0             2.0  \nENSMUSG00000000058             0.0             3.0  \nENSMUSG00000000078             5.0            15.0  \nENSMUSG00000000088             3.0            11.0  \n...                            ...             ...  \nENSMUSG00000097290             2.0             4.0  \nENSMUSG00000097772             2.0             0.0  \nENSMUSG00000098234             2.0             1.0  \nENSMUSG00000098332             1.0             9.0  \nENSMUSG00000101892             5.0             7.0  \n\n[3908 rows x 713 columns]",
      "text/html": "<div>\n<style scoped>\n    .dataframe tbody tr th:only-of-type {\n        vertical-align: middle;\n    }\n\n    .dataframe tbody tr th {\n        vertical-align: top;\n    }\n\n    .dataframe thead th {\n        text-align: right;\n    }\n</style>\n<table border=\"1\" class=\"dataframe\">\n  <thead>\n    <tr style=\"text-align: right;\">\n      <th></th>\n      <th>AACGCTACCACCAT</th>\n      <th>AACGCTACCGTTAC</th>\n      <th>AACGCTAGAAGGCT</th>\n      <th>AACGCTATTGCTCC</th>\n      <th>AACGCTCAACGGTC</th>\n      <th>AACGCTCAGTGGAG</th>\n      <th>AACGCTCCGCACCT</th>\n      <th>AACGCTCGAACCAC</th>\n      <th>AACGCTCGTTCAAC</th>\n      <th>AACGCTCTTCTCCT</th>\n      <th>...</th>\n      <th>TGAGGTGAGGAGGT</th>\n      <th>TGAGGTGATTGCGC</th>\n      <th>TGAGGTGCAAGGTT</th>\n      <th>TGAGGTGCGAGGAT</th>\n      <th>TGAGGTGGCGATAT</th>\n      <th>TGAGGTGGTAGCAC</th>\n      <th>TGAGGTGTACATAC</th>\n      <th>TGAGGTGTAGATGG</th>\n      <th>TGAGGTTATCCATA</th>\n      <th>TGAGGTTTGCTCGT</th>\n    </tr>\n    <tr>\n      <th>ID</th>\n      <th></th>\n      <th></th>\n      <th></th>\n      <th></th>\n      <th></th>\n      <th></th>\n      <th></th>\n      <th></th>\n      <th></th>\n      <th></th>\n      <th></th>\n      <th></th>\n      <th></th>\n      <th></th>\n      <th></th>\n      <th></th>\n      <th></th>\n      <th></th>\n      <th></th>\n      <th></th>\n      <th></th>\n    </tr>\n  </thead>\n  <tbody>\n    <tr>\n      <th>ENSMUSG00000000001</th>\n      <td>7.0</td>\n      <td>6.0</td>\n      <td>12.0</td>\n      <td>11.0</td>\n      <td>15.0</td>\n      <td>5.0</td>\n      <td>12.0</td>\n      <td>4.0</td>\n      <td>1.0</td>\n      <td>10.0</td>\n      <td>...</td>\n      <td>8.0</td>\n      <td>22.0</td>\n      <td>12.0</td>\n      <td>11.0</td>\n      <td>10.0</td>\n      <td>21.0</td>\n      <td>2.0</td>\n      <td>20.0</td>\n      <td>6.0</td>\n      <td>12.0</td>\n    </tr>\n    <tr>\n      <th>ENSMUSG00000000028</th>\n      <td>0.0</td>\n      <td>0.0</td>\n      <td>NaN</td>\n      <td>NaN</td>\n      <td>0.0</td>\n      <td>0.0</td>\n      <td>NaN</td>\n      <td>0.0</td>\n      <td>0.0</td>\n      <td>0.0</td>\n      <td>...</td>\n      <td>0.0</td>\n      <td>0.0</td>\n      <td>6.0</td>\n      <td>0.0</td>\n      <td>0.0</td>\n      <td>0.0</td>\n      <td>0.0</td>\n      <td>0.0</td>\n      <td>0.0</td>\n      <td>2.0</td>\n    </tr>\n    <tr>\n      <th>ENSMUSG00000000058</th>\n      <td>2.0</td>\n      <td>0.0</td>\n      <td>2.0</td>\n      <td>0.0</td>\n      <td>0.0</td>\n      <td>1.0</td>\n      <td>2.0</td>\n      <td>0.0</td>\n      <td>0.0</td>\n      <td>0.0</td>\n      <td>...</td>\n      <td>0.0</td>\n      <td>0.0</td>\n      <td>0.0</td>\n      <td>0.0</td>\n      <td>0.0</td>\n      <td>2.0</td>\n      <td>0.0</td>\n      <td>6.0</td>\n      <td>0.0</td>\n      <td>3.0</td>\n    </tr>\n    <tr>\n      <th>ENSMUSG00000000078</th>\n      <td>NaN</td>\n      <td>0.0</td>\n      <td>0.0</td>\n      <td>19.0</td>\n      <td>0.0</td>\n      <td>9.0</td>\n      <td>NaN</td>\n      <td>6.0</td>\n      <td>0.0</td>\n      <td>9.0</td>\n      <td>...</td>\n      <td>0.0</td>\n      <td>0.0</td>\n      <td>31.0</td>\n      <td>8.0</td>\n      <td>15.0</td>\n      <td>0.0</td>\n      <td>0.0</td>\n      <td>0.0</td>\n      <td>5.0</td>\n      <td>15.0</td>\n    </tr>\n    <tr>\n      <th>ENSMUSG00000000088</th>\n      <td>3.0</td>\n      <td>3.0</td>\n      <td>6.0</td>\n      <td>2.0</td>\n      <td>2.0</td>\n      <td>3.0</td>\n      <td>3.0</td>\n      <td>1.0</td>\n      <td>0.0</td>\n      <td>2.0</td>\n      <td>...</td>\n      <td>5.0</td>\n      <td>7.0</td>\n      <td>4.0</td>\n      <td>2.0</td>\n      <td>2.0</td>\n      <td>3.0</td>\n      <td>4.0</td>\n      <td>4.0</td>\n      <td>3.0</td>\n      <td>11.0</td>\n    </tr>\n    <tr>\n      <th>...</th>\n      <td>...</td>\n      <td>...</td>\n      <td>...</td>\n      <td>...</td>\n      <td>...</td>\n      <td>...</td>\n      <td>...</td>\n      <td>...</td>\n      <td>...</td>\n      <td>...</td>\n      <td>...</td>\n      <td>...</td>\n      <td>...</td>\n      <td>...</td>\n      <td>...</td>\n      <td>...</td>\n      <td>...</td>\n      <td>...</td>\n      <td>...</td>\n      <td>...</td>\n      <td>...</td>\n    </tr>\n    <tr>\n      <th>ENSMUSG00000097290</th>\n      <td>0.0</td>\n      <td>0.0</td>\n      <td>4.0</td>\n      <td>0.0</td>\n      <td>5.0</td>\n      <td>0.0</td>\n      <td>0.0</td>\n      <td>4.0</td>\n      <td>0.0</td>\n      <td>0.0</td>\n      <td>...</td>\n      <td>0.0</td>\n      <td>3.0</td>\n      <td>3.0</td>\n      <td>0.0</td>\n      <td>1.0</td>\n      <td>2.0</td>\n      <td>0.0</td>\n      <td>3.0</td>\n      <td>2.0</td>\n      <td>4.0</td>\n    </tr>\n    <tr>\n      <th>ENSMUSG00000097772</th>\n      <td>0.0</td>\n      <td>0.0</td>\n      <td>4.0</td>\n      <td>4.0</td>\n      <td>3.0</td>\n      <td>0.0</td>\n      <td>5.0</td>\n      <td>0.0</td>\n      <td>0.0</td>\n      <td>0.0</td>\n      <td>...</td>\n      <td>0.0</td>\n      <td>1.0</td>\n      <td>0.0</td>\n      <td>1.0</td>\n      <td>7.0</td>\n      <td>0.0</td>\n      <td>3.0</td>\n      <td>2.0</td>\n      <td>2.0</td>\n      <td>0.0</td>\n    </tr>\n    <tr>\n      <th>ENSMUSG00000098234</th>\n      <td>2.0</td>\n      <td>4.0</td>\n      <td>0.0</td>\n      <td>1.0</td>\n      <td>0.0</td>\n      <td>1.0</td>\n      <td>2.0</td>\n      <td>0.0</td>\n      <td>0.0</td>\n      <td>1.0</td>\n      <td>...</td>\n      <td>0.0</td>\n      <td>1.0</td>\n      <td>2.0</td>\n      <td>0.0</td>\n      <td>4.0</td>\n      <td>2.0</td>\n      <td>1.0</td>\n      <td>1.0</td>\n      <td>2.0</td>\n      <td>1.0</td>\n    </tr>\n    <tr>\n      <th>ENSMUSG00000098332</th>\n      <td>3.0</td>\n      <td>0.0</td>\n      <td>4.0</td>\n      <td>1.0</td>\n      <td>7.0</td>\n      <td>2.0</td>\n      <td>0.0</td>\n      <td>1.0</td>\n      <td>0.0</td>\n      <td>6.0</td>\n      <td>...</td>\n      <td>0.0</td>\n      <td>11.0</td>\n      <td>2.0</td>\n      <td>1.0</td>\n      <td>8.0</td>\n      <td>4.0</td>\n      <td>0.0</td>\n      <td>3.0</td>\n      <td>1.0</td>\n      <td>9.0</td>\n    </tr>\n    <tr>\n      <th>ENSMUSG00000101892</th>\n      <td>5.0</td>\n      <td>4.0</td>\n      <td>1.0</td>\n      <td>6.0</td>\n      <td>9.0</td>\n      <td>5.0</td>\n      <td>5.0</td>\n      <td>2.0</td>\n      <td>0.0</td>\n      <td>0.0</td>\n      <td>...</td>\n      <td>2.0</td>\n      <td>7.0</td>\n      <td>2.0</td>\n      <td>0.0</td>\n      <td>0.0</td>\n      <td>5.0</td>\n      <td>0.0</td>\n      <td>2.0</td>\n      <td>5.0</td>\n      <td>7.0</td>\n    </tr>\n  </tbody>\n</table>\n<p>3908 rows × 713 columns</p>\n</div>"
     },
     "execution_count": 91,
     "metadata": {},
     "output_type": "execute_result"
    }
   ],
   "source": [
    "non_impute_no_ln = {\"c57\":counts_l[1], \"cast\":counts_l[0]}\n",
    "non_impute_no_ln[\"cast\"]"
   ],
   "metadata": {
    "collapsed": false,
    "ExecuteTime": {
     "end_time": "2023-12-15T00:20:44.803423853Z",
     "start_time": "2023-12-15T00:20:44.751694377Z"
    }
   }
  },
  {
   "cell_type": "markdown",
   "source": [
    "Making noise from non-normalized data"
   ],
   "metadata": {
    "collapsed": false
   }
  },
  {
   "cell_type": "code",
   "execution_count": 92,
   "outputs": [
    {
     "data": {
      "text/plain": "                        Ntot      Nint      Next\nID                                              \nENSMUSG00000000001  0.343163  0.204796  0.138366\nENSMUSG00000000028  5.501222  3.648591  1.852631\nENSMUSG00000000058  2.166279  1.698786  0.467493\nENSMUSG00000000078  0.978513  0.906316  0.072197\nENSMUSG00000000088  0.725305  0.235496  0.489809\n...                      ...       ...       ...\nENSMUSG00000097290  1.477272  1.445096  0.032176\nENSMUSG00000097772  1.856122  1.478863  0.377259\nENSMUSG00000098234  1.702705  1.571960  0.130745\nENSMUSG00000098332  0.849777  0.650848  0.198930\nENSMUSG00000101892  0.766854  0.621553  0.145300\n\n[3908 rows x 3 columns]",
      "text/html": "<div>\n<style scoped>\n    .dataframe tbody tr th:only-of-type {\n        vertical-align: middle;\n    }\n\n    .dataframe tbody tr th {\n        vertical-align: top;\n    }\n\n    .dataframe thead th {\n        text-align: right;\n    }\n</style>\n<table border=\"1\" class=\"dataframe\">\n  <thead>\n    <tr style=\"text-align: right;\">\n      <th></th>\n      <th>Ntot</th>\n      <th>Nint</th>\n      <th>Next</th>\n    </tr>\n    <tr>\n      <th>ID</th>\n      <th></th>\n      <th></th>\n      <th></th>\n    </tr>\n  </thead>\n  <tbody>\n    <tr>\n      <th>ENSMUSG00000000001</th>\n      <td>0.343163</td>\n      <td>0.204796</td>\n      <td>0.138366</td>\n    </tr>\n    <tr>\n      <th>ENSMUSG00000000028</th>\n      <td>5.501222</td>\n      <td>3.648591</td>\n      <td>1.852631</td>\n    </tr>\n    <tr>\n      <th>ENSMUSG00000000058</th>\n      <td>2.166279</td>\n      <td>1.698786</td>\n      <td>0.467493</td>\n    </tr>\n    <tr>\n      <th>ENSMUSG00000000078</th>\n      <td>0.978513</td>\n      <td>0.906316</td>\n      <td>0.072197</td>\n    </tr>\n    <tr>\n      <th>ENSMUSG00000000088</th>\n      <td>0.725305</td>\n      <td>0.235496</td>\n      <td>0.489809</td>\n    </tr>\n    <tr>\n      <th>...</th>\n      <td>...</td>\n      <td>...</td>\n      <td>...</td>\n    </tr>\n    <tr>\n      <th>ENSMUSG00000097290</th>\n      <td>1.477272</td>\n      <td>1.445096</td>\n      <td>0.032176</td>\n    </tr>\n    <tr>\n      <th>ENSMUSG00000097772</th>\n      <td>1.856122</td>\n      <td>1.478863</td>\n      <td>0.377259</td>\n    </tr>\n    <tr>\n      <th>ENSMUSG00000098234</th>\n      <td>1.702705</td>\n      <td>1.571960</td>\n      <td>0.130745</td>\n    </tr>\n    <tr>\n      <th>ENSMUSG00000098332</th>\n      <td>0.849777</td>\n      <td>0.650848</td>\n      <td>0.198930</td>\n    </tr>\n    <tr>\n      <th>ENSMUSG00000101892</th>\n      <td>0.766854</td>\n      <td>0.621553</td>\n      <td>0.145300</td>\n    </tr>\n  </tbody>\n</table>\n<p>3908 rows × 3 columns</p>\n</div>"
     },
     "execution_count": 92,
     "metadata": {},
     "output_type": "execute_result"
    }
   ],
   "source": [
    "\n",
    "def totalNoise(a1, a2):\n",
    "    #python is strange. *a1 here is all other tuple elements after the first (id).\n",
    "    (id1, *a1) = a1\n",
    "    (id2, *a2) = a2\n",
    "    a1 = np.array(a1)\n",
    "    a2 = np.array(a2)\n",
    "    return id1,((np.nanmean((a1 ** 2) + (a2 ** 2))) - (2 * np.nanmean(a1) * np.nanmean(a2))) / (2 * np.nanmean(a1) * np.nanmean(a2))\n",
    "\n",
    "\n",
    "def intNoise(a1, a2):\n",
    "    (id1, *a1) = a1\n",
    "    (id2, *a2) = a2\n",
    "    a1 = np.array(a1)\n",
    "    a2 = np.array(a2)\n",
    "    assert a1.any() and a2.any()\n",
    "    return id1, (np.nanmean((a1 - a2) ** 2) / ( 2 * np.nanmean(a1) * np.nanmean(a2) ))\n",
    "\n",
    "def extNoise(a1, a2):\n",
    "    (id1, *a1) = a1\n",
    "    (id2, *a2) = a2\n",
    "    a1 = np.array(a1)\n",
    "    a2 = np.array(a2)\n",
    "    return id1, ( np.nanmean(a1 * a2) - (np.nanmean(a1) * np.nanmean(a2)) )/ (np.nanmean(a1) * np.nanmean(a2))\n",
    "\n",
    "Ntot = np.array([totalNoise(a1,a2) for a1,a2 in zip(c57_counts.itertuples(index=True), cast_counts.itertuples(index=True))], dtype=object)\n",
    "Ntot_dict = {id: noise for id,noise in Ntot}\n",
    "\n",
    "Nint = np.array([intNoise(a1,a2) for a1,a2 in zip(c57_counts.itertuples(index=True), cast_counts.itertuples(index=True))], dtype=object)\n",
    "Nint_dict = {id: noise for id,noise in Nint}\n",
    "\n",
    "Next = np.array([extNoise(a1,a2) for a1,a2 in zip(c57_counts.itertuples(index=True), cast_counts.itertuples(index=True))], dtype=object)\n",
    "Next_dict = {id: noise for id,noise in Next}\n",
    "#len(Ntot)\n",
    "#len(Nint)\n",
    "#Ntot_dict\n",
    "\n",
    "noise_df = pd.DataFrame({\"ID\":Ntot_dict.keys(), \"Ntot\":Ntot_dict.values(), \"Nint\": Nint_dict.values(), \"Next\":Next_dict.values()})\n",
    "noise_df.set_index(\"ID\", inplace=True)\n",
    "noise_df"
   ],
   "metadata": {
    "collapsed": false,
    "ExecuteTime": {
     "end_time": "2023-12-15T00:20:47.781856321Z",
     "start_time": "2023-12-15T00:20:44.751996026Z"
    }
   }
  },
  {
   "cell_type": "markdown",
   "source": [
    "Calculating noise from library size normalization"
   ],
   "metadata": {
    "collapsed": false
   }
  },
  {
   "cell_type": "code",
   "execution_count": 93,
   "outputs": [],
   "source": [
    "def totalNoise(a1, a2):\n",
    "    #python is strange. *a1 here is all other tuple elements after the first (id).\n",
    "    (id1, *a1) = a1\n",
    "    (id2, *a2) = a2\n",
    "    a1 = np.array(a1)\n",
    "    a2 = np.array(a2)\n",
    "    assert id1 == id2\n",
    "    return id1,((np.nanmean((a1 ** 2) + (a2 ** 2))) - (2 * np.nanmean(a1) * np.nanmean(a2))) / (2 * np.nanmean(a1) * np.nanmean(a2))\n",
    "\n",
    "\n",
    "def intNoise(a1, a2):\n",
    "    (id1, *a1) = a1\n",
    "    (id2, *a2) = a2\n",
    "    a1 = np.array(a1)\n",
    "    a2 = np.array(a2)\n",
    "    assert id1 == id2\n",
    "   # assert a1.any() and a2.any()\n",
    "    return id1, (np.nanmean((a1 - a2) ** 2) / ( 2 * np.nanmean(a1) * np.nanmean(a2) ))\n",
    "\n",
    "def extNoise(a1, a2):\n",
    "    (id1, *a1) = a1\n",
    "    (id2, *a2) = a2\n",
    "    a1 = np.array(a1)\n",
    "    a2 = np.array(a2)\n",
    "    assert id1 == id2\n",
    "    return id1, ( np.nanmean(a1 * a2) - (np.nanmean(a1) * np.nanmean(a2)) )/ (np.nanmean(a1) * np.nanmean(a2))\n",
    "\n",
    "\n",
    "def makeNoise(counts_dict):\n",
    "    import pandas as pd\n",
    "    keys = list(counts_dict.keys())\n",
    "\n",
    "\n",
    "    Nint = np.array([intNoise(a1,a2) for a1,a2 in zip(counts_dict[keys[0]].itertuples(index=True), counts_dict[keys[1]].itertuples(index=True))], dtype=object)\n",
    "    Nint_dict = {id: noise for id,noise in Nint}\n",
    "\n",
    "    Next = np.array([extNoise(a1,a2) for a1,a2 in zip(counts_dict[keys[0]].itertuples(index=True), counts_dict[keys[1]].itertuples(index=True))], dtype=object)\n",
    "    Next_dict = {id: noise for id,noise in Next}\n",
    "\n",
    "\n",
    "    Ntot = np.array([totalNoise(a1,a2) for a1,a2 in zip(counts_dict[keys[0]].itertuples(index=True), counts_dict[keys[1]].itertuples(index=True))], dtype=object)\n",
    "    Ntot_dict = {id: noise for id,noise in Ntot}\n",
    "\n",
    "\n",
    "    noise_df = pd.DataFrame({\"ID\":Ntot_dict.keys(), \"Ntot\":Ntot_dict.values(), \"Nint\": Nint_dict.values(), \"Next\":Next_dict.values()})\n",
    "    noise_df.set_index(\"ID\", inplace=True)\n",
    "\n",
    "    return noise_df"
   ],
   "metadata": {
    "collapsed": false,
    "ExecuteTime": {
     "end_time": "2023-12-15T00:20:47.790328423Z",
     "start_time": "2023-12-15T00:20:47.788828358Z"
    }
   }
  },
  {
   "cell_type": "markdown",
   "source": [],
   "metadata": {
    "collapsed": false
   }
  },
  {
   "cell_type": "code",
   "execution_count": 94,
   "outputs": [
    {
     "data": {
      "text/plain": "1025"
     },
     "execution_count": 94,
     "metadata": {},
     "output_type": "execute_result"
    }
   ],
   "source": [
    "non_impute_noise = makeNoise(non_impute_no_ln)\n",
    "non_impute_noise\n",
    "len(non_impute_noise.loc[non_impute_noise.Next < 0])"
   ],
   "metadata": {
    "collapsed": false,
    "ExecuteTime": {
     "end_time": "2023-12-15T00:20:50.804012065Z",
     "start_time": "2023-12-15T00:20:47.790960991Z"
    }
   }
  },
  {
   "cell_type": "code",
   "execution_count": 95,
   "outputs": [
    {
     "data": {
      "text/plain": "                        Ntot      Nint      Next\nID                                              \nENSMUSG00000000001  0.233465  0.211929  0.021537\nENSMUSG00000000028  4.814944  3.589525  1.225419\nENSMUSG00000000058  1.891524  1.591452  0.300072\nENSMUSG00000000078  0.681397  0.774574 -0.093177\nENSMUSG00000000088  0.529788  0.246204  0.283583\n...                      ...       ...       ...\nENSMUSG00000097290  1.399265  1.436722 -0.037458\nENSMUSG00000097772  1.671890  1.547819  0.124071\nENSMUSG00000098234  1.534081  1.549360 -0.015279\nENSMUSG00000098332  0.713271  0.661264  0.052006\nENSMUSG00000101892  0.816559  0.732417  0.084142\n\n[3681 rows x 3 columns]",
      "text/html": "<div>\n<style scoped>\n    .dataframe tbody tr th:only-of-type {\n        vertical-align: middle;\n    }\n\n    .dataframe tbody tr th {\n        vertical-align: top;\n    }\n\n    .dataframe thead th {\n        text-align: right;\n    }\n</style>\n<table border=\"1\" class=\"dataframe\">\n  <thead>\n    <tr style=\"text-align: right;\">\n      <th></th>\n      <th>Ntot</th>\n      <th>Nint</th>\n      <th>Next</th>\n    </tr>\n    <tr>\n      <th>ID</th>\n      <th></th>\n      <th></th>\n      <th></th>\n    </tr>\n  </thead>\n  <tbody>\n    <tr>\n      <th>ENSMUSG00000000001</th>\n      <td>0.233465</td>\n      <td>0.211929</td>\n      <td>0.021537</td>\n    </tr>\n    <tr>\n      <th>ENSMUSG00000000028</th>\n      <td>4.814944</td>\n      <td>3.589525</td>\n      <td>1.225419</td>\n    </tr>\n    <tr>\n      <th>ENSMUSG00000000058</th>\n      <td>1.891524</td>\n      <td>1.591452</td>\n      <td>0.300072</td>\n    </tr>\n    <tr>\n      <th>ENSMUSG00000000078</th>\n      <td>0.681397</td>\n      <td>0.774574</td>\n      <td>-0.093177</td>\n    </tr>\n    <tr>\n      <th>ENSMUSG00000000088</th>\n      <td>0.529788</td>\n      <td>0.246204</td>\n      <td>0.283583</td>\n    </tr>\n    <tr>\n      <th>...</th>\n      <td>...</td>\n      <td>...</td>\n      <td>...</td>\n    </tr>\n    <tr>\n      <th>ENSMUSG00000097290</th>\n      <td>1.399265</td>\n      <td>1.436722</td>\n      <td>-0.037458</td>\n    </tr>\n    <tr>\n      <th>ENSMUSG00000097772</th>\n      <td>1.671890</td>\n      <td>1.547819</td>\n      <td>0.124071</td>\n    </tr>\n    <tr>\n      <th>ENSMUSG00000098234</th>\n      <td>1.534081</td>\n      <td>1.549360</td>\n      <td>-0.015279</td>\n    </tr>\n    <tr>\n      <th>ENSMUSG00000098332</th>\n      <td>0.713271</td>\n      <td>0.661264</td>\n      <td>0.052006</td>\n    </tr>\n    <tr>\n      <th>ENSMUSG00000101892</th>\n      <td>0.816559</td>\n      <td>0.732417</td>\n      <td>0.084142</td>\n    </tr>\n  </tbody>\n</table>\n<p>3681 rows × 3 columns</p>\n</div>"
     },
     "execution_count": 95,
     "metadata": {},
     "output_type": "execute_result"
    }
   ],
   "source": [
    "ln_noise = makeNoise(ln_impute_dict)\n",
    "ln_noise"
   ],
   "metadata": {
    "collapsed": false,
    "ExecuteTime": {
     "end_time": "2023-12-15T00:20:53.520888607Z",
     "start_time": "2023-12-15T00:20:50.808906349Z"
    }
   }
  },
  {
   "cell_type": "markdown",
   "source": [],
   "metadata": {
    "collapsed": false
   }
  },
  {
   "cell_type": "code",
   "execution_count": 96,
   "outputs": [
    {
     "data": {
      "text/plain": "1984"
     },
     "execution_count": 96,
     "metadata": {},
     "output_type": "execute_result"
    }
   ],
   "source": [
    "#Checking the number of negative Next values, these are theoretically impossible\n",
    "len(ln_noise.loc[ln_noise.Next < 0])"
   ],
   "metadata": {
    "collapsed": false,
    "ExecuteTime": {
     "end_time": "2023-12-15T00:20:53.525254303Z",
     "start_time": "2023-12-15T00:20:53.521624535Z"
    }
   }
  },
  {
   "cell_type": "code",
   "execution_count": 97,
   "outputs": [
    {
     "name": "stderr",
     "output_type": "stream",
     "text": [
      "/home/ben/.virtualenvs/tx_noise/lib/python3.8/site-packages/pandas/core/arraylike.py:396: RuntimeWarning: invalid value encountered in log10\n",
      "  result = getattr(ufunc, method)(*inputs, **kwargs)\n"
     ]
    },
    {
     "data": {
      "text/plain": "<seaborn.axisgrid.FacetGrid at 0x7f12a9e39070>"
     },
     "execution_count": 97,
     "metadata": {},
     "output_type": "execute_result"
    },
    {
     "data": {
      "text/plain": "<Figure size 500x500 with 1 Axes>",
      "image/png": "[encoded data removed]"
     },
     "metadata": {},
     "output_type": "display_data"
    }
   ],
   "source": [
    "import seaborn as sns\n",
    "sns.relplot(y=np.log10(noise_df.Next),x=np.log10(non_impute_noise.Next))"
   ],
   "metadata": {
    "collapsed": false,
    "ExecuteTime": {
     "end_time": "2023-12-15T00:20:53.793369681Z",
     "start_time": "2023-12-15T00:20:53.526021471Z"
    }
   }
  },
  {
   "cell_type": "code",
   "execution_count": 98,
   "outputs": [
    {
     "data": {
      "text/plain": "<seaborn.axisgrid.FacetGrid at 0x7f12a9508880>"
     },
     "execution_count": 98,
     "metadata": {},
     "output_type": "execute_result"
    },
    {
     "data": {
      "text/plain": "<Figure size 500x500 with 1 Axes>",
      "image/png": "[encoded data removed]"
     },
     "metadata": {},
     "output_type": "display_data"
    }
   ],
   "source": [
    "import seaborn as sns\n",
    "#sns.relplot(y=noise_df.Nint,x=noise_df.Next)\n",
    "sns.relplot(y=ln_noise.Nint,x=ln_noise.Next)"
   ],
   "metadata": {
    "collapsed": false,
    "ExecuteTime": {
     "end_time": "2023-12-15T00:20:54.071550318Z",
     "start_time": "2023-12-15T00:20:53.787671618Z"
    }
   }
  },
  {
   "cell_type": "markdown",
   "source": [
    "Loading in kinetics and linkage data"
   ],
   "metadata": {
    "collapsed": false
   }
  },
  {
   "cell_type": "code",
   "execution_count": 99,
   "outputs": [
    {
     "data": {
      "text/plain": "                        k_on      k_off      k_syn  bf_lower  bf_upper  \\\ngene_id                                                                  \nENSMUSG00000000001  4.252039  26.865740  96.092819  2.702795  6.017169   \nENSMUSG00000000028  0.137546   1.025523  16.144363  0.109138  0.212030   \nENSMUSG00000000037  0.078290   0.999971   1.852708  0.034711  0.228232   \nENSMUSG00000000058  0.779049  12.358448  37.516225  0.484199  0.961267   \nENSMUSG00000000078  0.784579   2.727669  56.502058  0.681904  1.103465   \n...                      ...        ...        ...       ...       ...   \nENSMUSG00000096699  0.055771   0.460551   6.009451  0.029863  0.129351   \nENSMUSG00000097571  0.219019  16.302314  14.232093  0.117263  0.353373   \nENSMUSG00000098466  0.127843   1.424644   1.000000  0.085092  0.548184   \nENSMUSG00000103308  0.092313  22.881764  31.800548  0.054584  0.219401   \nENSMUSG00000113611  0.117381   0.295731  11.677386  0.071529  0.256262   \n\n                     bs_lower   bs_upper  bf_n  bs_n  \\\ngene_id                                                \nENSMUSG00000000001   2.210820   7.908801   100   100   \nENSMUSG00000000028   9.487846  20.515211   100   100   \nENSMUSG00000000037   0.531360   4.224191   100   100   \nENSMUSG00000000058   2.394180   6.576081   100   100   \nENSMUSG00000000078  12.028828  25.700570   100   100   \n...                       ...        ...   ...   ...   \nENSMUSG00000096699   4.247061  26.079432   100   100   \nENSMUSG00000097571   0.479911   1.623884   100   100   \nENSMUSG00000098466   0.100207   0.771126   100   100   \nENSMUSG00000103308   0.473503   2.798475   100   100   \nENSMUSG00000113611  13.850892  63.531994   100   100   \n\n                            HiChIP_Intersect Symbol unique_linked_genes  Freq  \\\ngene_id                                                                         \nENSMUSG00000000001  chr3:108146159-108146160  Gnai3               Gnai3     5   \nENSMUSG00000000028                       NaN    NaN                 NaN     0   \nENSMUSG00000000037                       NaN    NaN                 NaN     0   \nENSMUSG00000000058                       NaN    NaN                 NaN     0   \nENSMUSG00000000078                       NaN    NaN                 NaN     0   \n...                                      ...    ...                 ...   ...   \nENSMUSG00000096699                       NaN    NaN                 NaN     0   \nENSMUSG00000097571                       NaN    NaN                 NaN     0   \nENSMUSG00000098466                       NaN    NaN                 NaN     0   \nENSMUSG00000103308                       NaN    NaN                 NaN     0   \nENSMUSG00000113611                       NaN    NaN                 NaN     0   \n\n                    anchor         bs string.Freq  \ngene_id                                            \nENSMUSG00000000001    True   3.576779           5  \nENSMUSG00000000028   False  15.742559           0  \nENSMUSG00000000037   False   1.852761           0  \nENSMUSG00000000058   False   3.035675           0  \nENSMUSG00000000078   False  20.714410           0  \n...                    ...        ...         ...  \nENSMUSG00000096699   False  13.048395           0  \nENSMUSG00000097571   False   0.873011           0  \nENSMUSG00000098466   False   0.701930           0  \nENSMUSG00000103308   False   1.389777           0  \nENSMUSG00000113611   False  39.486536           0  \n\n[9337 rows x 16 columns]",
      "text/html": "<div>\n<style scoped>\n    .dataframe tbody tr th:only-of-type {\n        vertical-align: middle;\n    }\n\n    .dataframe tbody tr th {\n        vertical-align: top;\n    }\n\n    .dataframe thead th {\n        text-align: right;\n    }\n</style>\n<table border=\"1\" class=\"dataframe\">\n  <thead>\n    <tr style=\"text-align: right;\">\n      <th></th>\n      <th>k_on</th>\n      <th>k_off</th>\n      <th>k_syn</th>\n      <th>bf_lower</th>\n      <th>bf_upper</th>\n      <th>bs_lower</th>\n      <th>bs_upper</th>\n      <th>bf_n</th>\n      <th>bs_n</th>\n      <th>HiChIP_Intersect</th>\n      <th>Symbol</th>\n      <th>unique_linked_genes</th>\n      <th>Freq</th>\n      <th>anchor</th>\n      <th>bs</th>\n      <th>string.Freq</th>\n    </tr>\n    <tr>\n      <th>gene_id</th>\n      <th></th>\n      <th></th>\n      <th></th>\n      <th></th>\n      <th></th>\n      <th></th>\n      <th></th>\n      <th></th>\n      <th></th>\n      <th></th>\n      <th></th>\n      <th></th>\n      <th></th>\n      <th></th>\n      <th></th>\n      <th></th>\n    </tr>\n  </thead>\n  <tbody>\n    <tr>\n      <th>ENSMUSG00000000001</th>\n      <td>4.252039</td>\n      <td>26.865740</td>\n      <td>96.092819</td>\n      <td>2.702795</td>\n      <td>6.017169</td>\n      <td>2.210820</td>\n      <td>7.908801</td>\n      <td>100</td>\n      <td>100</td>\n      <td>chr3:108146159-108146160</td>\n      <td>Gnai3</td>\n      <td>Gnai3</td>\n      <td>5</td>\n      <td>True</td>\n      <td>3.576779</td>\n      <td>5</td>\n    </tr>\n    <tr>\n      <th>ENSMUSG00000000028</th>\n      <td>0.137546</td>\n      <td>1.025523</td>\n      <td>16.144363</td>\n      <td>0.109138</td>\n      <td>0.212030</td>\n      <td>9.487846</td>\n      <td>20.515211</td>\n      <td>100</td>\n      <td>100</td>\n      <td>NaN</td>\n      <td>NaN</td>\n      <td>NaN</td>\n      <td>0</td>\n      <td>False</td>\n      <td>15.742559</td>\n      <td>0</td>\n    </tr>\n    <tr>\n      <th>ENSMUSG00000000037</th>\n      <td>0.078290</td>\n      <td>0.999971</td>\n      <td>1.852708</td>\n      <td>0.034711</td>\n      <td>0.228232</td>\n      <td>0.531360</td>\n      <td>4.224191</td>\n      <td>100</td>\n      <td>100</td>\n      <td>NaN</td>\n      <td>NaN</td>\n      <td>NaN</td>\n      <td>0</td>\n      <td>False</td>\n      <td>1.852761</td>\n      <td>0</td>\n    </tr>\n    <tr>\n      <th>ENSMUSG00000000058</th>\n      <td>0.779049</td>\n      <td>12.358448</td>\n      <td>37.516225</td>\n      <td>0.484199</td>\n      <td>0.961267</td>\n      <td>2.394180</td>\n      <td>6.576081</td>\n      <td>100</td>\n      <td>100</td>\n      <td>NaN</td>\n      <td>NaN</td>\n      <td>NaN</td>\n      <td>0</td>\n      <td>False</td>\n      <td>3.035675</td>\n      <td>0</td>\n    </tr>\n    <tr>\n      <th>ENSMUSG00000000078</th>\n      <td>0.784579</td>\n      <td>2.727669</td>\n      <td>56.502058</td>\n      <td>0.681904</td>\n      <td>1.103465</td>\n      <td>12.028828</td>\n      <td>25.700570</td>\n      <td>100</td>\n      <td>100</td>\n      <td>NaN</td>\n      <td>NaN</td>\n      <td>NaN</td>\n      <td>0</td>\n      <td>False</td>\n      <td>20.714410</td>\n      <td>0</td>\n    </tr>\n    <tr>\n      <th>...</th>\n      <td>...</td>\n      <td>...</td>\n      <td>...</td>\n      <td>...</td>\n      <td>...</td>\n      <td>...</td>\n      <td>...</td>\n      <td>...</td>\n      <td>...</td>\n      <td>...</td>\n      <td>...</td>\n      <td>...</td>\n      <td>...</td>\n      <td>...</td>\n      <td>...</td>\n      <td>...</td>\n    </tr>\n    <tr>\n      <th>ENSMUSG00000096699</th>\n      <td>0.055771</td>\n      <td>0.460551</td>\n      <td>6.009451</td>\n      <td>0.029863</td>\n      <td>0.129351</td>\n      <td>4.247061</td>\n      <td>26.079432</td>\n      <td>100</td>\n      <td>100</td>\n      <td>NaN</td>\n      <td>NaN</td>\n      <td>NaN</td>\n      <td>0</td>\n      <td>False</td>\n      <td>13.048395</td>\n      <td>0</td>\n    </tr>\n    <tr>\n      <th>ENSMUSG00000097571</th>\n      <td>0.219019</td>\n      <td>16.302314</td>\n      <td>14.232093</td>\n      <td>0.117263</td>\n      <td>0.353373</td>\n      <td>0.479911</td>\n      <td>1.623884</td>\n      <td>100</td>\n      <td>100</td>\n      <td>NaN</td>\n      <td>NaN</td>\n      <td>NaN</td>\n      <td>0</td>\n      <td>False</td>\n      <td>0.873011</td>\n      <td>0</td>\n    </tr>\n    <tr>\n      <th>ENSMUSG00000098466</th>\n      <td>0.127843</td>\n      <td>1.424644</td>\n      <td>1.000000</td>\n      <td>0.085092</td>\n      <td>0.548184</td>\n      <td>0.100207</td>\n      <td>0.771126</td>\n      <td>100</td>\n      <td>100</td>\n      <td>NaN</td>\n      <td>NaN</td>\n      <td>NaN</td>\n      <td>0</td>\n      <td>False</td>\n      <td>0.701930</td>\n      <td>0</td>\n    </tr>\n    <tr>\n      <th>ENSMUSG00000103308</th>\n      <td>0.092313</td>\n      <td>22.881764</td>\n      <td>31.800548</td>\n      <td>0.054584</td>\n      <td>0.219401</td>\n      <td>0.473503</td>\n      <td>2.798475</td>\n      <td>100</td>\n      <td>100</td>\n      <td>NaN</td>\n      <td>NaN</td>\n      <td>NaN</td>\n      <td>0</td>\n      <td>False</td>\n      <td>1.389777</td>\n      <td>0</td>\n    </tr>\n    <tr>\n      <th>ENSMUSG00000113611</th>\n      <td>0.117381</td>\n      <td>0.295731</td>\n      <td>11.677386</td>\n      <td>0.071529</td>\n      <td>0.256262</td>\n      <td>13.850892</td>\n      <td>63.531994</td>\n      <td>100</td>\n      <td>100</td>\n      <td>NaN</td>\n      <td>NaN</td>\n      <td>NaN</td>\n      <td>0</td>\n      <td>False</td>\n      <td>39.486536</td>\n      <td>0</td>\n    </tr>\n  </tbody>\n</table>\n<p>9337 rows × 16 columns</p>\n</div>"
     },
     "execution_count": 99,
     "metadata": {},
     "output_type": "execute_result"
    }
   ],
   "source": [
    "linked_genes = pd.read_csv(\"data/linked_kinetics.bed\", sep=\"\\t\")\n",
    "linked_genes.set_index(\"gene_id\",inplace=True)\n",
    "linked_genes\n"
   ],
   "metadata": {
    "collapsed": false,
    "ExecuteTime": {
     "end_time": "2023-12-15T00:20:54.114097977Z",
     "start_time": "2023-12-15T00:20:54.069830894Z"
    }
   }
  },
  {
   "cell_type": "code",
   "execution_count": 100,
   "outputs": [
    {
     "data": {
      "text/plain": "                        k_on       k_off        k_syn  bf_lower  bf_upper  \\\nENSMUSG00000000001  4.252039   26.865740    96.092819  2.702795  6.017169   \nENSMUSG00000000028  0.137546    1.025523    16.144363  0.109138  0.212030   \nENSMUSG00000000058  0.779049   12.358448    37.516225  0.484199  0.961267   \nENSMUSG00000000078  0.784579    2.727669    56.502058  0.681904  1.103465   \nENSMUSG00000000088  3.452998  506.084127  1644.498378  3.098385  5.809828   \n...                      ...         ...          ...       ...       ...   \nENSMUSG00000097290  0.696919    1.500963     7.284798  0.488259  1.043772   \nENSMUSG00000097772  0.815998   65.563071   152.575827  0.534629  0.952615   \nENSMUSG00000098234  3.062101    7.886858    44.810994  2.399691  5.062430   \nENSMUSG00000098332  1.804533    4.138814    11.630906  1.162881  3.036864   \nENSMUSG00000101892  2.402276   11.031829    30.820276  1.787405  4.144561   \n\n                     bs_lower   bs_upper  bf_n  bs_n  \\\nENSMUSG00000000001   2.210820   7.908801   100   100   \nENSMUSG00000000028   9.487846  20.515211   100   100   \nENSMUSG00000000058   2.394180   6.576081   100   100   \nENSMUSG00000000078  12.028828  25.700570   100   100   \nENSMUSG00000000088   1.812725   3.698460   100   100   \n...                       ...        ...   ...   ...   \nENSMUSG00000097290   2.463425   8.270527   100   100   \nENSMUSG00000097772   1.942072   4.683730   100   100   \nENSMUSG00000098234   2.470521   8.788027   100   100   \nENSMUSG00000098332   1.211191   5.736895   100   100   \nENSMUSG00000101892   1.332814   4.565550   100   100   \n\n                            HiChIP_Intersect Symbol unique_linked_genes  Freq  \\\nENSMUSG00000000001  chr3:108146159-108146160  Gnai3               Gnai3     5   \nENSMUSG00000000028                       NaN    NaN                 NaN     0   \nENSMUSG00000000058                       NaN    NaN                 NaN     0   \nENSMUSG00000000078                       NaN    NaN                 NaN     0   \nENSMUSG00000000088                       NaN    NaN                 NaN     0   \n...                                      ...    ...                 ...   ...   \nENSMUSG00000097290                       NaN    NaN                 NaN     0   \nENSMUSG00000097772                       NaN    NaN                 NaN     0   \nENSMUSG00000098234                       NaN    NaN                 NaN     0   \nENSMUSG00000098332                       NaN    NaN                 NaN     0   \nENSMUSG00000101892                       NaN    NaN                 NaN     0   \n\n                    anchor         bs string.Freq      Ntot      Nint  \\\nENSMUSG00000000001    True   3.576779           5  0.343163  0.204796   \nENSMUSG00000000028   False  15.742559           0  5.501222  3.648591   \nENSMUSG00000000058   False   3.035675           0  2.166279  1.698786   \nENSMUSG00000000078   False  20.714410           0  0.978513  0.906316   \nENSMUSG00000000088   False   3.249457           0  0.725305  0.235496   \n...                    ...        ...         ...       ...       ...   \nENSMUSG00000097290   False   4.853414           0  1.477272  1.445096   \nENSMUSG00000097772   False   2.327161           0  1.856122  1.478863   \nENSMUSG00000098234   False   5.681729           0  1.702705  1.571960   \nENSMUSG00000098332   False   2.810203           0  0.849777  0.650848   \nENSMUSG00000101892   False   2.793759           0  0.766854  0.621553   \n\n                        Next  \nENSMUSG00000000001  0.138366  \nENSMUSG00000000028  1.852631  \nENSMUSG00000000058  0.467493  \nENSMUSG00000000078  0.072197  \nENSMUSG00000000088  0.489809  \n...                      ...  \nENSMUSG00000097290  0.032176  \nENSMUSG00000097772  0.377259  \nENSMUSG00000098234  0.130745  \nENSMUSG00000098332  0.198930  \nENSMUSG00000101892  0.145300  \n\n[3621 rows x 19 columns]",
      "text/html": "<div>\n<style scoped>\n    .dataframe tbody tr th:only-of-type {\n        vertical-align: middle;\n    }\n\n    .dataframe tbody tr th {\n        vertical-align: top;\n    }\n\n    .dataframe thead th {\n        text-align: right;\n    }\n</style>\n<table border=\"1\" class=\"dataframe\">\n  <thead>\n    <tr style=\"text-align: right;\">\n      <th></th>\n      <th>k_on</th>\n      <th>k_off</th>\n      <th>k_syn</th>\n      <th>bf_lower</th>\n      <th>bf_upper</th>\n      <th>bs_lower</th>\n      <th>bs_upper</th>\n      <th>bf_n</th>\n      <th>bs_n</th>\n      <th>HiChIP_Intersect</th>\n      <th>Symbol</th>\n      <th>unique_linked_genes</th>\n      <th>Freq</th>\n      <th>anchor</th>\n      <th>bs</th>\n      <th>string.Freq</th>\n      <th>Ntot</th>\n      <th>Nint</th>\n      <th>Next</th>\n    </tr>\n  </thead>\n  <tbody>\n    <tr>\n      <th>ENSMUSG00000000001</th>\n      <td>4.252039</td>\n      <td>26.865740</td>\n      <td>96.092819</td>\n      <td>2.702795</td>\n      <td>6.017169</td>\n      <td>2.210820</td>\n      <td>7.908801</td>\n      <td>100</td>\n      <td>100</td>\n      <td>chr3:108146159-108146160</td>\n      <td>Gnai3</td>\n      <td>Gnai3</td>\n      <td>5</td>\n      <td>True</td>\n      <td>3.576779</td>\n      <td>5</td>\n      <td>0.343163</td>\n      <td>0.204796</td>\n      <td>0.138366</td>\n    </tr>\n    <tr>\n      <th>ENSMUSG00000000028</th>\n      <td>0.137546</td>\n      <td>1.025523</td>\n      <td>16.144363</td>\n      <td>0.109138</td>\n      <td>0.212030</td>\n      <td>9.487846</td>\n      <td>20.515211</td>\n      <td>100</td>\n      <td>100</td>\n      <td>NaN</td>\n      <td>NaN</td>\n      <td>NaN</td>\n      <td>0</td>\n      <td>False</td>\n      <td>15.742559</td>\n      <td>0</td>\n      <td>5.501222</td>\n      <td>3.648591</td>\n      <td>1.852631</td>\n    </tr>\n    <tr>\n      <th>ENSMUSG00000000058</th>\n      <td>0.779049</td>\n      <td>12.358448</td>\n      <td>37.516225</td>\n      <td>0.484199</td>\n      <td>0.961267</td>\n      <td>2.394180</td>\n      <td>6.576081</td>\n      <td>100</td>\n      <td>100</td>\n      <td>NaN</td>\n      <td>NaN</td>\n      <td>NaN</td>\n      <td>0</td>\n      <td>False</td>\n      <td>3.035675</td>\n      <td>0</td>\n      <td>2.166279</td>\n      <td>1.698786</td>\n      <td>0.467493</td>\n    </tr>\n    <tr>\n      <th>ENSMUSG00000000078</th>\n      <td>0.784579</td>\n      <td>2.727669</td>\n      <td>56.502058</td>\n      <td>0.681904</td>\n      <td>1.103465</td>\n      <td>12.028828</td>\n      <td>25.700570</td>\n      <td>100</td>\n      <td>100</td>\n      <td>NaN</td>\n      <td>NaN</td>\n      <td>NaN</td>\n      <td>0</td>\n      <td>False</td>\n      <td>20.714410</td>\n      <td>0</td>\n      <td>0.978513</td>\n      <td>0.906316</td>\n      <td>0.072197</td>\n    </tr>\n    <tr>\n      <th>ENSMUSG00000000088</th>\n      <td>3.452998</td>\n      <td>506.084127</td>\n      <td>1644.498378</td>\n      <td>3.098385</td>\n      <td>5.809828</td>\n      <td>1.812725</td>\n      <td>3.698460</td>\n      <td>100</td>\n      <td>100</td>\n      <td>NaN</td>\n      <td>NaN</td>\n      <td>NaN</td>\n      <td>0</td>\n      <td>False</td>\n      <td>3.249457</td>\n      <td>0</td>\n      <td>0.725305</td>\n      <td>0.235496</td>\n      <td>0.489809</td>\n    </tr>\n    <tr>\n      <th>...</th>\n      <td>...</td>\n      <td>...</td>\n      <td>...</td>\n      <td>...</td>\n      <td>...</td>\n      <td>...</td>\n      <td>...</td>\n      <td>...</td>\n      <td>...</td>\n      <td>...</td>\n      <td>...</td>\n      <td>...</td>\n      <td>...</td>\n      <td>...</td>\n      <td>...</td>\n      <td>...</td>\n      <td>...</td>\n      <td>...</td>\n      <td>...</td>\n    </tr>\n    <tr>\n      <th>ENSMUSG00000097290</th>\n      <td>0.696919</td>\n      <td>1.500963</td>\n      <td>7.284798</td>\n      <td>0.488259</td>\n      <td>1.043772</td>\n      <td>2.463425</td>\n      <td>8.270527</td>\n      <td>100</td>\n      <td>100</td>\n      <td>NaN</td>\n      <td>NaN</td>\n      <td>NaN</td>\n      <td>0</td>\n      <td>False</td>\n      <td>4.853414</td>\n      <td>0</td>\n      <td>1.477272</td>\n      <td>1.445096</td>\n      <td>0.032176</td>\n    </tr>\n    <tr>\n      <th>ENSMUSG00000097772</th>\n      <td>0.815998</td>\n      <td>65.563071</td>\n      <td>152.575827</td>\n      <td>0.534629</td>\n      <td>0.952615</td>\n      <td>1.942072</td>\n      <td>4.683730</td>\n      <td>100</td>\n      <td>100</td>\n      <td>NaN</td>\n      <td>NaN</td>\n      <td>NaN</td>\n      <td>0</td>\n      <td>False</td>\n      <td>2.327161</td>\n      <td>0</td>\n      <td>1.856122</td>\n      <td>1.478863</td>\n      <td>0.377259</td>\n    </tr>\n    <tr>\n      <th>ENSMUSG00000098234</th>\n      <td>3.062101</td>\n      <td>7.886858</td>\n      <td>44.810994</td>\n      <td>2.399691</td>\n      <td>5.062430</td>\n      <td>2.470521</td>\n      <td>8.788027</td>\n      <td>100</td>\n      <td>100</td>\n      <td>NaN</td>\n      <td>NaN</td>\n      <td>NaN</td>\n      <td>0</td>\n      <td>False</td>\n      <td>5.681729</td>\n      <td>0</td>\n      <td>1.702705</td>\n      <td>1.571960</td>\n      <td>0.130745</td>\n    </tr>\n    <tr>\n      <th>ENSMUSG00000098332</th>\n      <td>1.804533</td>\n      <td>4.138814</td>\n      <td>11.630906</td>\n      <td>1.162881</td>\n      <td>3.036864</td>\n      <td>1.211191</td>\n      <td>5.736895</td>\n      <td>100</td>\n      <td>100</td>\n      <td>NaN</td>\n      <td>NaN</td>\n      <td>NaN</td>\n      <td>0</td>\n      <td>False</td>\n      <td>2.810203</td>\n      <td>0</td>\n      <td>0.849777</td>\n      <td>0.650848</td>\n      <td>0.198930</td>\n    </tr>\n    <tr>\n      <th>ENSMUSG00000101892</th>\n      <td>2.402276</td>\n      <td>11.031829</td>\n      <td>30.820276</td>\n      <td>1.787405</td>\n      <td>4.144561</td>\n      <td>1.332814</td>\n      <td>4.565550</td>\n      <td>100</td>\n      <td>100</td>\n      <td>NaN</td>\n      <td>NaN</td>\n      <td>NaN</td>\n      <td>0</td>\n      <td>False</td>\n      <td>2.793759</td>\n      <td>0</td>\n      <td>0.766854</td>\n      <td>0.621553</td>\n      <td>0.145300</td>\n    </tr>\n  </tbody>\n</table>\n<p>3621 rows × 19 columns</p>\n</div>"
     },
     "execution_count": 100,
     "metadata": {},
     "output_type": "execute_result"
    }
   ],
   "source": [
    "linked_genes_noise = linked_genes.join(noise_df, how=\"inner\")\n",
    "linked_genes_noise_non_impute = linked_genes.join(non_impute_noise, how=\"inner\")\n",
    "ln_linked_genes_noise = linked_genes.join(ln_noise, how=\"inner\")\n",
    "linked_genes_noise_non_impute"
   ],
   "metadata": {
    "collapsed": false,
    "ExecuteTime": {
     "end_time": "2023-12-15T00:20:54.114356897Z",
     "start_time": "2023-12-15T00:20:54.110697918Z"
    }
   }
  },
  {
   "cell_type": "code",
   "execution_count": 101,
   "outputs": [
    {
     "data": {
      "text/plain": "951"
     },
     "execution_count": 101,
     "metadata": {},
     "output_type": "execute_result"
    }
   ],
   "source": [
    "len(linked_genes_noise_non_impute.loc[linked_genes_noise_non_impute.Next < 0])"
   ],
   "metadata": {
    "collapsed": false,
    "ExecuteTime": {
     "end_time": "2023-12-15T00:21:15.086787563Z",
     "start_time": "2023-12-15T00:21:15.046040286Z"
    }
   }
  },
  {
   "cell_type": "markdown",
   "source": [],
   "metadata": {
    "collapsed": false
   }
  },
  {
   "cell_type": "markdown",
   "source": [],
   "metadata": {
    "collapsed": false
   }
  },
  {
   "cell_type": "code",
   "execution_count": 102,
   "outputs": [],
   "source": [
    "linked_genes_noise.to_csv(\"data/linked_kinetics_noise.bed\", sep=\"\\t\")\n",
    "#ln_linked_genes_noise.to_csv(\"ln_linked_kinetics_noise.bed\", sep=\"\\t\")\n",
    "linked_genes_noise_non_impute.to_csv(\"data/ln_nas_linked_kinetics_noise.bed\", sep=\"\\t\")\n",
    "#c57_ex_filtered.to_csv(\"c57_filtered_ex.txt\", sep=\"\\t\")\n",
    "#cast_ex_filtered.to_csv(\"cast_filtered_ex.txt\", sep=\"\\t\")\n"
   ],
   "metadata": {
    "collapsed": false,
    "ExecuteTime": {
     "end_time": "2023-12-15T00:21:39.051331400Z",
     "start_time": "2023-12-15T00:21:38.971453503Z"
    }
   }
  }
 ],
 "metadata": {
  "kernelspec": {
   "display_name": "Python 3",
   "language": "python",
   "name": "python3"
  },
  "language_info": {
   "codemirror_mode": {
    "name": "ipython",
    "version": 2
   },
   "file_extension": ".py",
   "mimetype": "text/x-python",
   "name": "python",
   "nbconvert_exporter": "python",
   "pygments_lexer": "ipython2",
   "version": "2.7.6"
  }
 },
 "nbformat": 4,
 "nbformat_minor": 0
}
